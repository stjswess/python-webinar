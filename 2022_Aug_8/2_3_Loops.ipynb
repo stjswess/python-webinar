{
 "cells": [
  {
   "cell_type": "markdown",
   "metadata": {},
   "source": [
    "# Schleifen\n",
    "\n",
    "Ein Stück Code mehrmals ausführen\n",
    "\n",
    "- Duplikation von Code vermeiden\n",
    "- Anzahl der Wiederholungen zur Laufzeit festlegen."
   ]
  },
  {
   "cell_type": "code",
   "execution_count": 1,
   "metadata": {},
   "outputs": [
    {
     "name": "stdout",
     "output_type": "stream",
     "text": [
      "5151\n"
     ]
    }
   ],
   "source": [
    "# Beispiel\n",
    "# Zahlen von 1 bis zu einer vom Nutzer eingegebenen Zahl addieren\n",
    "\n",
    "limit = int(input(\"Limit eingeben: \"))\n",
    "\n",
    "sum = 0\n",
    "\n",
    "for num in range(1, limit + 1):\n",
    "    sum = sum + num\n",
    "    \n",
    "print(sum)"
   ]
  },
  {
   "cell_type": "markdown",
   "metadata": {},
   "source": [
    "## Arten von Schleifen\n",
    "\n",
    "Es gibt zwei Arten von Schleifen:\n",
    "\n",
    "- **for-Schleifen:**: Eine Collection durchlaufen\n",
    "- **while- Schleifen:**: Wiederholen solange eine Bedingung `True` ist"
   ]
  },
  {
   "cell_type": "markdown",
   "metadata": {},
   "source": [
    "## for-Schleifen"
   ]
  },
  {
   "cell_type": "code",
   "execution_count": 2,
   "metadata": {},
   "outputs": [
    {
     "name": "stdout",
     "output_type": "stream",
     "text": [
      "1\n",
      "3\n",
      "5\n",
      "7\n",
      "9\n",
      "Vera\n",
      "Jonas\n",
      "Flo\n",
      "<|||   T   |||>\n",
      "<|||   r   |||>\n",
      "<|||   a   |||>\n",
      "<|||   i   |||>\n",
      "<|||   n   |||>\n",
      "<|||   e   |||>\n",
      "<|||   r   |||>\n",
      "<|||   p   |||>\n",
      "<|||   o   |||>\n",
      "<|||   o   |||>\n",
      "<|||   l   |||>\n",
      "J\n",
      "o\n",
      "n\n"
     ]
    }
   ],
   "source": [
    "# Syntax\n",
    "#  1) range:\n",
    "\n",
    "for i in range(1, 10, 2):\n",
    "    print(i)\n",
    "    \n",
    "\n",
    "# 2) list:\n",
    "\n",
    "for name in [\"Vera\", \"Jonas\", \"Flo\"]:\n",
    "    print(name)\n",
    "\n",
    "# 3) string:\n",
    "\n",
    "for char in \"Trainerpool\":\n",
    "    print(f\"<|||   {char}   |||>\")\n",
    "\n",
    "# 4) parts of collections:\n",
    "\n",
    "for char in \"Jonas\"[0:3]:\n",
    "    print(char)\n"
   ]
  },
  {
   "cell_type": "markdown",
   "metadata": {},
   "source": [
    "## while-Schleifen"
   ]
  },
  {
   "cell_type": "code",
   "execution_count": 3,
   "metadata": {},
   "outputs": [
    {
     "name": "stdout",
     "output_type": "stream",
     "text": [
      "value of x is 10\n",
      "value of x is 9\n",
      "value of x is 8\n",
      "value of x is 7\n",
      "value of x is 6\n",
      "value of x is 5\n",
      "value of x is 4\n",
      "ferig\n"
     ]
    }
   ],
   "source": [
    "x = 10\n",
    "\n",
    "while x > 3:\n",
    "    print(f\"value of x is {x}\")\n",
    "    x -= 1\n",
    "\n",
    "print(\"ferig\")"
   ]
  },
  {
   "cell_type": "code",
   "execution_count": 4,
   "metadata": {},
   "outputs": [
    {
     "name": "stdout",
     "output_type": "stream",
     "text": [
      "Treffen sich zwei Jäger - beide tot.\n",
      "\n",
      "Treffen sich zwei Jäger - beide tot.\n",
      "\n",
      "Sun Aug  7 17:16:23 2022\n",
      "Sun Aug  7 17:16:25 2022\n",
      "Bye bye!\n"
     ]
    }
   ],
   "source": [
    "# Beispiel: Ein Menü programmieren\n",
    "\n",
    "# User soll was eingeben\n",
    "# Die Eingabe soll was machen\n",
    "# Der user das menu beenden können\n",
    "\n",
    "import time\n",
    "\n",
    "user_input = \"\"\n",
    "\n",
    "menu_text = \"\"\"\n",
    "    [1] Einen Witz erzählen\n",
    "    [2] Uhrzeit anzeigen\n",
    "    [x] Menü verlassen\n",
    "\"\"\"\n",
    "\n",
    "while user_input != \"x\":\n",
    "    user_input = input(menu_text)\n",
    "    if user_input == \"1\":\n",
    "        print(\"Treffen sich zwei Jäger - beide tot.\\n\")\n",
    "    elif user_input == \"2\":\n",
    "        print(time.ctime())\n",
    "    \n",
    "print(\"Bye bye!\")\n"
   ]
  },
  {
   "cell_type": "markdown",
   "metadata": {},
   "source": [
    "### Welche Fragen gibt es noch??\n",
    "\n",
    "### Ideen für weitere Beispiele?\n",
    "\n",
    "### Try it out yourself!"
   ]
  },
  {
   "cell_type": "code",
   "execution_count": null,
   "metadata": {},
   "outputs": [],
   "source": []
  }
 ],
 "metadata": {
  "interpreter": {
   "hash": "916dbcbb3f70747c44a77c7bcd40155683ae19c65e1c03b4aa3499c5328201f1"
  },
  "kernelspec": {
   "display_name": "Python 3 (ipykernel)",
   "language": "python",
   "name": "python3"
  },
  "language_info": {
   "codemirror_mode": {
    "name": "ipython",
    "version": 3
   },
   "file_extension": ".py",
   "mimetype": "text/x-python",
   "name": "python",
   "nbconvert_exporter": "python",
   "pygments_lexer": "ipython3",
   "version": "3.8.10"
  }
 },
 "nbformat": 4,
 "nbformat_minor": 2
}
