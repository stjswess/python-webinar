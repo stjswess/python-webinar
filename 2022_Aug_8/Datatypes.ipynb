{
 "cells": [
  {
   "cell_type": "markdown",
   "id": "7bb9ffdf",
   "metadata": {},
   "source": [
    "# Datentypen\n",
    "\n",
    "- Primitive Typen\n",
    "    - number\n",
    "    - bool \n",
    "    - string\n",
    "- Zusammengesetze Typen\n",
    "    - list\n",
    "    - dict\n",
    "    - Andere komplexe Klassen\n"
   ]
  },
  {
   "cell_type": "markdown",
   "id": "816eacd2",
   "metadata": {},
   "source": [
    "## Primitive Typen"
   ]
  },
  {
   "cell_type": "code",
   "execution_count": 1,
   "id": "86044534",
   "metadata": {},
   "outputs": [
    {
     "ename": "TypeError",
     "evalue": "unsupported operand type(s) for +: 'int' and 'str'",
     "output_type": "error",
     "traceback": [
      "\u001b[0;31m---------------------------------------------------------------------------\u001b[0m",
      "\u001b[0;31mTypeError\u001b[0m                                 Traceback (most recent call last)",
      "\u001b[0;32m/tmp/ipykernel_278942/3194802561.py\u001b[0m in \u001b[0;36m<module>\u001b[0;34m\u001b[0m\n\u001b[1;32m      4\u001b[0m \u001b[0;34m\u001b[0m\u001b[0m\n\u001b[1;32m      5\u001b[0m \u001b[0;31m# Nur Typen, die \"zusammen passen\" können addiert werden:\u001b[0m\u001b[0;34m\u001b[0m\u001b[0;34m\u001b[0m\u001b[0;34m\u001b[0m\u001b[0m\n\u001b[0;32m----> 6\u001b[0;31m \u001b[0mresult\u001b[0m \u001b[0;34m=\u001b[0m \u001b[0;36m42\u001b[0m \u001b[0;34m+\u001b[0m \u001b[0;34m\"1\"\u001b[0m   \u001b[0;31m# error\u001b[0m\u001b[0;34m\u001b[0m\u001b[0;34m\u001b[0m\u001b[0m\n\u001b[0m\u001b[1;32m      7\u001b[0m \u001b[0mresult\u001b[0m \u001b[0;34m=\u001b[0m \u001b[0;36m42\u001b[0m \u001b[0;34m+\u001b[0m \u001b[0;36m1\u001b[0m     \u001b[0;31m# correct\u001b[0m\u001b[0;34m\u001b[0m\u001b[0;34m\u001b[0m\u001b[0m\n",
      "\u001b[0;31mTypeError\u001b[0m: unsupported operand type(s) for +: 'int' and 'str'"
     ]
    }
   ],
   "source": [
    "number_of_participants = 25                             # number\n",
    "meeting_is_finished = False                             # bool\n",
    "seminar_name = \"Programmieren kennenlernen mit Python\"  # string\n",
    "\n",
    "# Nur Typen, die \"zusammen passen\" können addiert werden:\n",
    "result = 42 + \"1\"   # error\n",
    "result = 42 + 1     # correct"
   ]
  },
  {
   "cell_type": "markdown",
   "id": "62925c3e",
   "metadata": {},
   "source": [
    "## Zusammengesetze Typen"
   ]
  },
  {
   "cell_type": "code",
   "execution_count": 4,
   "id": "89c038a4",
   "metadata": {},
   "outputs": [
    {
     "name": "stdout",
     "output_type": "stream",
     "text": [
      "Vera\n",
      "['Vera', 'Jonas']\n",
      "7\n",
      "{'name': 'Jonas', 'age': 21, 'city': 'Darmstadt', 'likesProgramming': True}\n",
      "Jonas\n",
      "21\n",
      "dict_keys(['name', 'age', 'city', 'likesProgramming'])\n",
      "dict_values(['Jonas', 21, 'Darmstadt', True])\n",
      "21\n"
     ]
    }
   ],
   "source": [
    "# Lists\n",
    "\n",
    "instructors = [\"Vera\", \"Jonas\", \"Flo\"]\n",
    "numbers = [2, 3, 5, 7, 9, 11, 13, 17, 19]\n",
    "\n",
    "print(instructors[0])\n",
    "print(instructors[0:2])\n",
    "print(numbers[3])\n",
    "\n",
    "# Dictionaries\n",
    "\n",
    "person = {\n",
    "    \"name\": \"Jonas\",\n",
    "    \"age\": 21,\n",
    "    \"city\": \"Darmstadt\",\n",
    "    \"likesProgramming\": True\n",
    "}\n",
    "\n",
    "print(person)\n",
    "print(person[\"name\"])\n",
    "print(person[\"age\"])\n",
    "\n",
    "print(person.keys())\n",
    "print(person.values())\n",
    "\n",
    "# Nested Lists/Dictionaries\n",
    "\n",
    "people = [\n",
    "    {\n",
    "        \"name\": \"Jonas\",\n",
    "        \"age\": 21,\n",
    "        \"city\": \"Darmstadt\",\n",
    "        \"likesProgramming\": True\n",
    "    },\n",
    "    {\n",
    "        \"name\": \"Peter\",\n",
    "        \"age\": 24,\n",
    "        \"city\": \"Berlin\",\n",
    "        \"likesProgramming\": False\n",
    "    }\n",
    "]\n",
    "\n",
    "print(people[0][\"age\"])\n"
   ]
  }
 ],
 "metadata": {
  "kernelspec": {
   "display_name": "Python 3 (ipykernel)",
   "language": "python",
   "name": "python3"
  },
  "language_info": {
   "codemirror_mode": {
    "name": "ipython",
    "version": 3
   },
   "file_extension": ".py",
   "mimetype": "text/x-python",
   "name": "python",
   "nbconvert_exporter": "python",
   "pygments_lexer": "ipython3",
   "version": "3.8.10"
  }
 },
 "nbformat": 4,
 "nbformat_minor": 5
}
