{
 "cells": [
  {
   "cell_type": "markdown",
   "metadata": {},
   "source": [
    "# A: Einstieg in Python und Datenstrukturen\n",
    "### a) Anlegen eines Kommentars \n",
    "Ein Kommentar wird nicht ausgeführt. Du kannst ihn für Notizen verwenden."
   ]
  },
  {
   "cell_type": "code",
   "execution_count": 9,
   "metadata": {},
   "outputs": [],
   "source": [
    "# Kommentar"
   ]
  },
  {
   "cell_type": "markdown",
   "metadata": {},
   "source": [
    "### b) Ausgeben eines Textes mit dem Befehl ```print()```"
   ]
  },
  {
   "cell_type": "code",
   "execution_count": 10,
   "metadata": {},
   "outputs": [
    {
     "name": "stdout",
     "output_type": "stream",
     "text": [
      "Hi\n"
     ]
    }
   ],
   "source": [
    "print(\"Hi\")"
   ]
  },
  {
   "cell_type": "markdown",
   "metadata": {},
   "source": [
    "### c) Anlegen einer Variable \n",
    "Folgende Datentypen werden gezeigt:\n",
    "- Integer (Ganzzahl)\n",
    "- Float (Gleitkommezahl)\n",
    "- String (Text) \"Vergesse die Anführungszeichen nicht\"\n",
    "- Boolean (Wahrheitswert)\n",
    "\n",
    "Es darf kein Leerzeichen im Variablennamen benutzt werden. Verwende hierfür den Unterstrich. Wenn Du eine Variable ohne weiteres hinschreibst, wird diese in Juypter Notebook ausgegeben. Das ist analog zu ```print(a_text)```."
   ]
  },
  {
   "cell_type": "code",
   "execution_count": 3,
   "metadata": {},
   "outputs": [
    {
     "data": {
      "text/plain": [
       "99900000000.0"
      ]
     },
     "execution_count": 3,
     "metadata": {},
     "output_type": "execute_result"
    }
   ],
   "source": [
    "a_integer = 2\n",
    "a_gleitkomma = 2.5\n",
    "a_text = \"Hi\"\n",
    "a_wahrheit = True\n",
    "a_exponentiell = 9.99e10\n",
    "a_exponentiell"
   ]
  },
  {
   "cell_type": "markdown",
   "metadata": {},
   "source": [
    "Die Datentypen können auch explizit angegeben werden"
   ]
  },
  {
   "cell_type": "code",
   "execution_count": null,
   "metadata": {},
   "outputs": [],
   "source": [
    "x = str(\"Hello World\")                   #string\n",
    "x = int(20)                              #int\n",
    "x = float(20.5)                          #float\n",
    "x = complex(1j)                          #complex\n",
    "x = list((\"apple\", \"banana\", \"cherry\"))  #list\n",
    "x = tuple((\"apple\", \"banana\", \"cherry\")) #tuple\n",
    "x = dict(name=\"John\", age=36)            #dict\n",
    "x = set((\"apple\", \"banana\", \"cherry\"))   #set"
   ]
  },
  {
   "cell_type": "markdown",
   "metadata": {},
   "source": [
    "### d) Rechnen mit Variablen \n",
    "Das Ergebnis der Rechnung ist der neue Wert von b. \n",
    "\n",
    "Mögliche Operatoren\n",
    "- ```+``` Addieren\n",
    "- ```-``` Subtrahieren\n",
    "- ```/``` Dividieren\n",
    "- ```*``` Mulitplizieren\n",
    "- ```**``` Potenzieren\n",
    "- ```%``` Modulo\n",
    "\n",
    "Eine Verkürzte Schreibweise für ```b = b + ...``` ist ```b += ...```. Das geht auch bei einer Subtraktion ```-=```, Division ```/=```und Multiplikation```*=```."
   ]
  },
  {
   "cell_type": "code",
   "execution_count": 26,
   "metadata": {},
   "outputs": [
    {
     "name": "stdout",
     "output_type": "stream",
     "text": [
      "Schritt 1 7.8\n",
      "Schritt 2 8.8\n",
      "Schritt 3 8.8\n"
     ]
    }
   ],
   "source": [
    "b = a_integer + 5 + 7.2 / 9 *1\n",
    "print(\"Schritt 1\", b)\n",
    "b = b + 1\n",
    "print(\"Schritt 2\", b)\n",
    "b /= 1 \n",
    "print(\"Schritt 3\", b)"
   ]
  },
  {
   "cell_type": "markdown",
   "metadata": {},
   "source": [
    "### e) Formatieren eines Textes\n",
    "Du kannst Variablen an bestimmte Positionen in einem Text wie folgt einfügen."
   ]
  },
  {
   "cell_type": "code",
   "execution_count": 36,
   "metadata": {},
   "outputs": [
    {
     "data": {
      "text/plain": [
       "'Der aktuelle Wert von b ist 17.8 und der Wert von a ist True'"
      ]
     },
     "execution_count": 36,
     "metadata": {},
     "output_type": "execute_result"
    }
   ],
   "source": [
    "\"Der aktuelle Wert von b ist {} und der Wert von a_text ist {}\".format(b,a_text)"
   ]
  },
  {
   "cell_type": "markdown",
   "metadata": {},
   "source": [
    "### f) Datenstruktur Liste\n",
    "\n",
    "Listen sind Zusammenfassung von Werten. In der Variable ```c``` werden mehrere Werte gleichzeitig gespeichert. \n",
    "\n",
    "#### Zugriff auf Elemente\n",
    "Du kannst auf die einzelnen Werte über die Postion zugreifen. Die Werte sind mit 0 beginnend durchnummeriert.\n",
    "Möchtest Du vom Ende der Liste zugreifen setzt Du ein Minus davor ```c[-1]``` gibt dir das letzte Element aus \n",
    "\n",
    "#### Slicing - Mehrere Elemente auf einmal auswählen\n",
    "Mehrere Elemente werden über den Startwert und Endwert des Bereiches ausgewählt. Der Endwert ist dabei die erste Position, die *nicht* mehr in den Bereich reinfällt. "
   ]
  },
  {
   "cell_type": "code",
   "execution_count": 33,
   "metadata": {},
   "outputs": [
    {
     "data": {
      "text/plain": [
       "[1, 2, 3, 4]"
      ]
     },
     "execution_count": 33,
     "metadata": {},
     "output_type": "execute_result"
    }
   ],
   "source": [
    "# Anlegen einer Liste\n",
    "c = [3,4,1,2]\n",
    "\n",
    "# Auswahl der ersten Elements\n",
    "c[0]\n",
    "\n",
    "# Auswahl des letzten Elements\n",
    "c[-1]  # Letztes Element\n",
    "c[-2]  # Vorletztes Element\n",
    "\n",
    "# Auswahl eines Bereichs\n",
    "c[0:3] # Von erstes bis drittes\n",
    "c[1:]  # zweites bis Ende\n",
    "c[:3]  # Anfang bis einschließlich drittes\n",
    "\n",
    "# Ausgabe der Länge\n",
    "len(c)\n",
    "\n",
    "# Sortieren der Liste (eingebaute Methode)\n",
    "c.sort()\n",
    "c"
   ]
  },
  {
   "cell_type": "markdown",
   "metadata": {},
   "source": [
    "Es gibt natürlich auch verschachtelte Listen:"
   ]
  },
  {
   "cell_type": "code",
   "execution_count": 37,
   "metadata": {},
   "outputs": [
    {
     "name": "stdout",
     "output_type": "stream",
     "text": [
      "[1, 2]\n",
      "2\n"
     ]
    }
   ],
   "source": [
    " d = [[1,2],[3,4]]\n",
    "\n",
    "# Ausgabe des ersten Elements\n",
    "d[0] # Liste [1,2]\n",
    "\n",
    "# Ausgabe des zweiten Elements der ersten Liste\n",
    "d[0][1] # 2\n",
    "\n",
    "print(d[0])\n",
    "print(d[0][1])"
   ]
  },
  {
   "cell_type": "markdown",
   "metadata": {},
   "source": [
    "### g) Datenstruktur Dictionary\n",
    "In einem Dictonary werden Werte nicht mit einer Postion abgelegt, sondern mit einem Schlüssel. Über diesen Schlüssen werden die Werte wiedergefunden. Die Datentypen innerhalb eines Dictionary können gemixt werden."
   ]
  },
  {
   "cell_type": "code",
   "execution_count": 2,
   "metadata": {},
   "outputs": [
    {
     "name": "stdout",
     "output_type": "stream",
     "text": [
      "Luise\n",
      "dict_keys(['Name', 'Mitgliedesnummer', 'Aktiv'])\n"
     ]
    },
    {
     "data": {
      "text/plain": [
       "dict_values(['Luise', 40, True])"
      ]
     },
     "execution_count": 2,
     "metadata": {},
     "output_type": "execute_result"
    }
   ],
   "source": [
    "d = {\"Name\" : \"Luise\", \n",
    "     \"Mitgliedesnummer\": 40,\n",
    "     \"Aktiv\" :  True}\n",
    "\n",
    "# Ausgabe des Wertes des Schlüssels Name\n",
    "d[\"Name\"]\n",
    "print(d[\"Name\"])\n",
    "\n",
    "# Ausgabe sämtlicher Schlüssel des dicts\n",
    "d.keys()\n",
    "print(d.keys())\n",
    "\n",
    "# Ausgabe der enthaltenen Elemente\n",
    "len(d)\n",
    "\n",
    "# Ausgabe aller Werte\n",
    "d.values()"
   ]
  }
 ],
 "metadata": {
  "kernelspec": {
   "display_name": "Python 3",
   "language": "python",
   "name": "python3"
  },
  "language_info": {
   "codemirror_mode": {
    "name": "ipython",
    "version": 3
   },
   "file_extension": ".py",
   "mimetype": "text/x-python",
   "name": "python",
   "nbconvert_exporter": "python",
   "pygments_lexer": "ipython3",
   "version": "3.8.5"
  }
 },
 "nbformat": 4,
 "nbformat_minor": 2
}
