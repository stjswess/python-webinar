{
 "cells": [
  {
   "cell_type": "markdown",
   "metadata": {},
   "source": [
    "# Voraufgabe zum Einstieg \n",
    "\n",
    "Lege eine Textvariable und eine Zahlenvariable mit beliebigem Wert an. Gebe beide Werte mit einem Format-String aus.\n",
    "``“String {}“.format(..)``\n"
   ]
  },
  {
   "cell_type": "code",
   "execution_count": 1,
   "metadata": {},
   "outputs": [
    {
     "name": "stdout",
     "output_type": "stream",
     "text": [
      "Das ist eine Zahl 5.3 und das ein Text 'Hallo'\n"
     ]
    }
   ],
   "source": [
    "textvar = \"Hallo\"\n",
    "zahlvar = 5.3\n",
    "\n",
    "print(\"Das ist eine Zahl {} und das ein Text '{}'\".format(zahlvar, textvar))"
   ]
  },
  {
   "cell_type": "markdown",
   "metadata": {},
   "source": [
    "# Teil 1: Einstieg in Python - Datenstrukturen\n",
    "\n",
    "Hier findest du die Aufgaben des Kurs-Moduls zum Thema Datentypen. Die Aufgaben sollten dich in einem richtigen Maß fordern - aber nicht überfordern. Falls sie dir schwerfallen, frag gerne nach.\n",
    "\n",
    "---\n",
    "\n",
    "**Folgende Aufgabentypen werden angeboten**\n",
    "- (A) Löse das Problem selbst! \n",
    "- (B) Ergänze den Code an der angegebenen Stelle\n",
    "- (C) Finde den Fehler\n",
    "- (D) Für die Aufgabe muss du (beabsichtigt) die Suchmaschine deines Vertrauens betätigen\n",
    "---"
   ]
  },
  {
   "cell_type": "markdown",
   "metadata": {},
   "source": [
    "**(A)** Berechne das Ergebnis von $\\frac{723 \\cdot 3.1}{\\sqrt{2^4} + 91.5^3} $"
   ]
  },
  {
   "cell_type": "code",
   "execution_count": 3,
   "metadata": {},
   "outputs": [
    {
     "data": {
      "text/plain": [
       "0.0029257313226898705"
      ]
     },
     "execution_count": 3,
     "metadata": {},
     "output_type": "execute_result"
    }
   ],
   "source": [
    "723*3.1 / (2**2 + 91.5**3)"
   ]
  },
  {
   "cell_type": "markdown",
   "metadata": {},
   "source": [
    "**(B-1)** Gebe den zugehörigen Wert von ``\"M6 Schraube\"`` aus. Ergänze den Code "
   ]
  },
  {
   "cell_type": "code",
   "execution_count": 5,
   "metadata": {},
   "outputs": [
    {
     "name": "stdout",
     "output_type": "stream",
     "text": [
      "10\n"
     ]
    }
   ],
   "source": [
    "meinDict= {\"Dichtung\" : 23,\n",
    "            \"M6 Schraube\" : 10,\n",
    "            \"Welle\" : 30,\n",
    "            }\n",
    "\n",
    "#*** Ergänze den Code unter dieser Zeile ***\n",
    "\n",
    "print(meinDict[\"M6 Schraube\"])"
   ]
  },
  {
   "cell_type": "markdown",
   "metadata": {},
   "source": [
    "**(B-2)** Gebe folgende Elemente der Liste aus. Ergänze dazu den Code.\n",
    "* die letzten 4 Elemente\n",
    "* die 3. Zahl\n",
    "* die Zahl an Position 3\n",
    "* die Zahlen zwischen den zweiten und vorletzten Wert (2-8)"
   ]
  },
  {
   "cell_type": "code",
   "execution_count": 12,
   "metadata": {},
   "outputs": [
    {
     "data": {
      "text/plain": [
       "[3, 4, 5, 6, 7, 8]"
      ]
     },
     "execution_count": 12,
     "metadata": {},
     "output_type": "execute_result"
    }
   ],
   "source": [
    "c = [1,2,3,4,5,6,7,8,9,10]\n",
    "\n",
    "#*** Ergänze den Code unter dieser Zeile ***\n",
    "\n",
    "\n",
    "#die letzten 4 Elemente\n",
    "c[-4:]\n",
    "\n",
    "#die 3. Zahl\n",
    "c[2]\n",
    "\n",
    "#die Zahl an Position 3\n",
    "c[3]\n",
    "\n",
    "#die Zahlen zwischen den zweiten und vorletzten Wert (2-8)\n",
    "c[2:-2]"
   ]
  },
  {
   "cell_type": "markdown",
   "metadata": {},
   "source": [
    "**(C-1)** Finde die Fehler (2 Fehler)"
   ]
  },
  {
   "cell_type": "code",
   "execution_count": 13,
   "metadata": {},
   "outputs": [],
   "source": [
    "# Anlegen eines Dictionarys mit Preisen der Gartenabteilung\n",
    "Abteilung_Garten = {\"Blumentopf\" : 1.99, \"Gartenschaufel\" : 9.99, \"Gießkanne\" : 5.99 }"
   ]
  },
  {
   "cell_type": "markdown",
   "metadata": {},
   "source": [
    "**(C-2)** Finde den Fehler: Das Element ```\"Labradoodle\"``` soll in ```\"Hund\"``` geändert werden. (Zeile 3!) (1 Fehler)"
   ]
  },
  {
   "cell_type": "code",
   "execution_count": 14,
   "metadata": {},
   "outputs": [
    {
     "name": "stdout",
     "output_type": "stream",
     "text": [
      "[['Schlange', 'Frosch', 'Eidechse'], ['Katze', 'Hund', 'Maus'], ['Zwergseidenäffchen']]\n"
     ]
    }
   ],
   "source": [
    "Tier_Liste = [[\"Schlange\",\"Frosch\",\"Eidechse\"],[\"Katze\",\"Labradoodle\",\"Maus\"],[\"Zwergseidenäffchen\"]]\n",
    "\n",
    "Tier_Liste[1][1] = \"Hund\"\n",
    "\n",
    "print(Tier_Liste)"
   ]
  },
  {
   "cell_type": "markdown",
   "metadata": {},
   "source": [
    "**(C-3)** Finde die Fehler beim Anlegen des Dictionarys (2 Fehler)"
   ]
  },
  {
   "cell_type": "code",
   "execution_count": 15,
   "metadata": {},
   "outputs": [],
   "source": [
    "meinDict = {\n",
    "    \n",
    "    \"A\" : 1,\n",
    "    \"B\" : \"2\",\n",
    "    \"C\" : None\n",
    "    \n",
    "}"
   ]
  },
  {
   "cell_type": "markdown",
   "metadata": {},
   "source": [
    "**(D-1)** **GOOGELN** Finde alle eindeutigen Elemente in einer Liste d.h Entferne Dopplungen! Du kannst dafür einen weiteren Datentyp namens ```set``` verwenden"
   ]
  },
  {
   "cell_type": "code",
   "execution_count": 17,
   "metadata": {},
   "outputs": [
    {
     "data": {
      "text/plain": [
       "{1, 2, 3, 4, 5}"
      ]
     },
     "execution_count": 17,
     "metadata": {},
     "output_type": "execute_result"
    }
   ],
   "source": [
    "l = [1,2,2,2,2,3,4,4,4,4,5]\n",
    "s = set(l) # Umwandeln in ein set\n",
    "s"
   ]
  },
  {
   "cell_type": "markdown",
   "metadata": {},
   "source": [
    "**(D-2)**  **GOOGELN** Finde eine Stringmethode, welche den Text ```\"Das ist eine Aufgabe für die Suchmaschine\"``` in eine Liste mit den Elementen ```[\"Das\",\"ist\",\"eine\",\"Aufgabe\",\"für\",\"die\",\"Suchmaschine\"]``` teilt."
   ]
  },
  {
   "cell_type": "code",
   "execution_count": 19,
   "metadata": {},
   "outputs": [
    {
     "data": {
      "text/plain": [
       "['Das', 'ist', 'eine', 'Aufgabe', 'für', 'die', 'Suchmaschine']"
      ]
     },
     "execution_count": 19,
     "metadata": {},
     "output_type": "execute_result"
    }
   ],
   "source": [
    "str_var = \"Das ist eine Aufgabe für die Suchmaschine\"\n",
    "\n",
    "liste_var = str_var.split(\" \") # Teilt den String an Leerzeichen \" \"\n",
    "liste_var"
   ]
  },
  {
   "cell_type": "markdown",
   "metadata": {},
   "source": [
    "<center> \n",
    "<h1>Gut gemacht!</h1> </center>\n",
    "<a href=\"http://bilder.hifi-forum.de/max/250993/thumbs-up-computer-kid-gif_348542.gif\" target=\"_blank\"> kleine Belohnung </a>\n"
   ]
  }
 ],
 "metadata": {
  "kernelspec": {
   "display_name": "Python 3",
   "language": "python",
   "name": "python3"
  },
  "language_info": {
   "codemirror_mode": {
    "name": "ipython",
    "version": 3
   },
   "file_extension": ".py",
   "mimetype": "text/x-python",
   "name": "python",
   "nbconvert_exporter": "python",
   "pygments_lexer": "ipython3",
   "version": "3.8.5"
  }
 },
 "nbformat": 4,
 "nbformat_minor": 2
}
