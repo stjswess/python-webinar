{
 "cells": [
  {
   "cell_type": "markdown",
   "metadata": {},
   "source": [
    "# Voraufgabe zum Einstieg \n",
    "\n",
    "Erstelle zwei Matrizen A und B mit NumPy (Werte beliebig) und führe Matrixmultiplikation durch. (Achte auf die Dimensionen!)"
   ]
  },
  {
   "cell_type": "code",
   "execution_count": 3,
   "metadata": {},
   "outputs": [
    {
     "name": "stdout",
     "output_type": "stream",
     "text": [
      "[[1 2]\n",
      " [3 4]]\n"
     ]
    },
    {
     "data": {
      "text/plain": [
       "array([[3, 3],\n",
       "       [7, 7]])"
      ]
     },
     "execution_count": 3,
     "metadata": {},
     "output_type": "execute_result"
    }
   ],
   "source": [
    "import numpy as np  # Du solltest das Package vorher installiert haben\n",
    "\n",
    "# Anlegen der Matrizen\n",
    "A = np.array([1,2,3,4]).reshape(2,2)\n",
    "B = np.array([1,1,1,1]).reshape(2,2)\n",
    "\n",
    "print(A)\n",
    "A.dot(B)"
   ]
  },
  {
   "cell_type": "markdown",
   "metadata": {},
   "source": [
    "# Teil 4: Packages - NumPy\n",
    "\n",
    "Jetzt lernen wir weitere Packages kennen. Wenn Du mal steckenbleiben solltest oder keine Idee hast, überspringe gerne die Aufgabe oder probiere einzelne Teilstücke zu lösen. Packages lernt man aber am Besten durch Ausprobieren oder durch Lesen der [Dokumentation](https://numpy.org/doc/1.21/user/absolute_beginners.html)\n",
    "\n",
    "Frag gerne nach, falls Du die Syntax nicht kennst.\n",
    "\n",
    "---\n",
    "\n",
    "**Folgende Aufgabentypen werden angeboten**\n",
    "- (A) Löse das Problem selbst! \n",
    "- (B) Ergänze den Code an der angegebenen Stelle\n",
    "- (C) Finde den Fehler\n",
    "- (D) Für die Aufgabe muss du (beabsichtigt) die Suchmaschine deines Vertrauens betätigen\n",
    "---"
   ]
  },
  {
   "cell_type": "markdown",
   "metadata": {},
   "source": [
    "---\n",
    "## 2-2 Mathematische Berechnungen mit Numpy\n",
    "Kurze Aufgaben zum Einstieg.\n",
    "\n",
    "**(A-1)** Erstelle folgende Matrizen auf möglichste einfache Weise:\n",
    "\n",
    "- Erstelle das Grundgerüst mit den Funktionen ``ones, eye``\n",
    "- Ändere einzelne Einträge\n",
    "- Füge neue Spalten durch Zusammenführen von Matrizen/Vektoren ein\n",
    "\n",
    "$  A = \\left( \\begin{matrix} 0 & 0 & 0 \\\\ 0 & 0 & 0  \\\\ 0 & 0 & 1 \\end{matrix} \\right), $\n",
    "$  B = \\left( \\begin{matrix} 0 & 0 & 0 & 1\\\\ 0 & 0 & 0 & 1 \\\\ 0 & 0 & 0 & 1 \\end{matrix} \\right),  $\n",
    "$  C = \\left( \\begin{matrix} 1 & 2 & 3 & 4 & 5 \\\\ 1 & 2 & 3 & 4 & 5 \\\\ 1 & 1 & 1 & 1 & 1 \\end{matrix} \\right) $"
   ]
  },
  {
   "cell_type": "code",
   "execution_count": 17,
   "metadata": {},
   "outputs": [
    {
     "name": "stdout",
     "output_type": "stream",
     "text": [
      "A\n",
      " [[0. 0. 0.]\n",
      " [0. 0. 0.]\n",
      " [0. 0. 1.]]\n",
      "B\n",
      " [[0. 0. 0. 1.]\n",
      " [0. 0. 0. 1.]\n",
      " [0. 0. 0. 1.]]\n",
      "C\n",
      " [[1 2 3 4 5]\n",
      " [1 2 3 4 5]\n",
      " [1 1 1 1 1]]\n"
     ]
    }
   ],
   "source": [
    "# 3x3 Nullermatrix und ein Wert ändern \n",
    "A = np.zeros((3,3))\n",
    "A[2,2] = 1\n",
    "print(\"A\\n\",A)\n",
    "\n",
    "# 3x3 Nullermatrix und Spalte anfügen\n",
    "B = np.hstack((np.zeros((3,3)), np.ones((3,1))))\n",
    "print(\"B\\n\",B)\n",
    "\n",
    "# Liste anlegen und umformen auf Form\n",
    "C = np.array([1,2,3,4,5]*2 + [1]*5).reshape((3,5))\n",
    "print(\"C\\n\",C)"
   ]
  },
  {
   "cell_type": "markdown",
   "metadata": {},
   "source": [
    "**(A-2)** Berechne folgende Variablen mit `x=2.5`und `y=3` in Python:\n",
    "\n",
    "Du brauchst aus ``numpy`` die Kreiszahl `np.pi` und Funktionen wie ``np.sin(), np.exp(), np.sqrt()``.\n",
    "\n",
    "$$a =  \\frac{sin(x+\\pi) + 0.3 \\cdot cos^2(x)}{\\sqrt{x^2 + y^2 +1 }} + e^{-x+1}= 0.1224$$\n",
    "\n",
    "$$b = \\frac{ln|x-4+y| + \\sqrt{9 + x}}{-y^2 \\cdot (x-2)} = -0.8437$$"
   ]
  },
  {
   "cell_type": "code",
   "execution_count": null,
   "metadata": {},
   "outputs": [],
   "source": [
    "x=2.5 \n",
    "y=3 \n",
    "\n",
    "a = (np.sin(x+np.pi) + 0.3*np.cos(x)**2)/(np.sqrt(x**2 + y**2 + 1)) + np.exp(-x+1)\n",
    "b = (np.log(abs(x-4 + y)) + np.sqrt(9+x))/(-y**2 * (x-2))\n",
    "\n",
    "print(a,b)"
   ]
  },
  {
   "cell_type": "markdown",
   "metadata": {},
   "source": [
    "**(B-1)** Erzeuge eine Matrix `B`, die nur in der Diagnoale Zufallszahlen besitzt. Benutzer dafür die Matrix `A`.\n",
    "\n",
    "$$  Beispiel = \\left( \\begin{matrix} 0.77132064 & 0 & 0 \\\\ 0 & 0.49850701 & 0 \\\\ 0 & 0 & 0.16911084 \\end{matrix} \\right) $$"
   ]
  },
  {
   "cell_type": "code",
   "execution_count": null,
   "metadata": {},
   "outputs": [],
   "source": [
    "# Setzen eines Seeds für den Zufall\n",
    "np.random.seed(10)\n",
    "\n",
    "# Erzeugen einer zufälligen Matrix\n",
    "A = np.random.random((3,3))\n",
    "print(A)\n",
    "\n",
    "#*** Ergänze den Code unter dieser Zeile ***\n",
    "\n",
    "# Einfach gelöst mit der Einheitsmatrix\n",
    "B = np.eye(3) * A\n",
    "B"
   ]
  },
  {
   "cell_type": "markdown",
   "metadata": {},
   "source": [
    "**(B-2)** Gebe das Element `'Hier'` zurück. Benutzer dafür das Indexing Bsp. `a[0][2]`"
   ]
  },
  {
   "cell_type": "code",
   "execution_count": 21,
   "metadata": {},
   "outputs": [
    {
     "name": "stderr",
     "output_type": "stream",
     "text": [
      "<ipython-input-21-98a5c7dd6aa2>:1: VisibleDeprecationWarning: Creating an ndarray from ragged nested sequences (which is a list-or-tuple of lists-or-tuples-or ndarrays with different lengths or shapes) is deprecated. If you meant to do this, you must specify 'dtype=object' when creating the ndarray\n",
      "  a = np.array([\"Das\",\"ist\",[1,2,3,[5,6],[7,8],[['HIER']],\"verrückt\"]])\n"
     ]
    },
    {
     "data": {
      "text/plain": [
       "'HIER'"
      ]
     },
     "execution_count": 21,
     "metadata": {},
     "output_type": "execute_result"
    }
   ],
   "source": [
    "a = np.array([\"Das\",\"ist\",[1,2,3,[5,6],[7,8],[['HIER']],\"verrückt\"]])\n",
    "\n",
    "#*** Ergänze den Code unter dieser Zeile ***\n",
    "\n",
    "a[2][5][0][0]\n"
   ]
  },
  {
   "cell_type": "markdown",
   "metadata": {},
   "source": [
    "**(C)** Korrigiere folgenden Fehler: Es soll ein Liste mit Werten von 0 bis 2.5 erstellt werden in 0.1 Schritten. Hierfür muss eine ähnliche Funktion aus ``numpy`` verwendet werden *(1 Fehler)*"
   ]
  },
  {
   "cell_type": "code",
   "execution_count": 4,
   "metadata": {},
   "outputs": [
    {
     "data": {
      "text/plain": [
       "array([0. , 0.1, 0.2, 0.3, 0.4, 0.5, 0.6, 0.7, 0.8, 0.9, 1. , 1.1, 1.2,\n",
       "       1.3, 1.4, 1.5, 1.6, 1.7, 1.8, 1.9, 2. , 2.1, 2.2, 2.3, 2.4])"
      ]
     },
     "execution_count": 4,
     "metadata": {},
     "output_type": "execute_result"
    }
   ],
   "source": [
    "np.arange(0,2.5,0.1)"
   ]
  },
  {
   "cell_type": "markdown",
   "metadata": {},
   "source": [
    "[Du kannst das schon wie ein Profi!](https://gph.is/g/EJgkj7e)"
   ]
  }
 ],
 "metadata": {
  "kernelspec": {
   "display_name": "Python 3",
   "language": "python",
   "name": "python3"
  },
  "language_info": {
   "codemirror_mode": {
    "name": "ipython",
    "version": 3
   },
   "file_extension": ".py",
   "mimetype": "text/x-python",
   "name": "python",
   "nbconvert_exporter": "python",
   "pygments_lexer": "ipython3",
   "version": "3.8.5"
  }
 },
 "nbformat": 4,
 "nbformat_minor": 4
}
