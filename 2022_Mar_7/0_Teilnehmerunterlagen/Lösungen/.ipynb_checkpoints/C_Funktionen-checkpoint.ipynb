{
 "cells": [
  {
   "cell_type": "markdown",
   "metadata": {},
   "source": [
    "# Voraufgabe zum Einstieg \n",
    "\n",
    "Schreibe eine Funktion, die den BMI abhängig von dem Körpergewicht in kg und der Größe in m berechnet. Probiere sie aus!\n",
    "\n",
    "$$BMI(gewicht, groesse) = \\frac{gewicht}{groesse^2}$$"
   ]
  },
  {
   "cell_type": "code",
   "execution_count": 3,
   "metadata": {},
   "outputs": [
    {
     "data": {
      "text/plain": [
       "23.37472607742878"
      ]
     },
     "execution_count": 3,
     "metadata": {},
     "output_type": "execute_result"
    }
   ],
   "source": [
    "def BMI(gew, gr):\n",
    "    return gew/(gr**2)\n",
    "\n",
    "# Achte auf die Einheiten (Größe in m)\n",
    "BMI(80,1.85)"
   ]
  },
  {
   "cell_type": "markdown",
   "metadata": {},
   "source": [
    "# Teil 3: Programmiergrundlagen - Funktionen\n",
    "\n",
    "Und weiter! Hier bekommst Du wieder größere Aufgabenblöcke. Wenn Du mal steckenbleiben solltest oder keine Idee hast, überspringe gerne die Aufgabe oder probiere einzelne Teilstücke zu lösen.\n",
    "\n",
    "Frag gerne nach, falls Du die Syntax nicht kennst.\n",
    "\n",
    "---\n",
    "\n",
    "**Folgende Aufgabentypen werden angeboten**\n",
    "- (A) Löse das Problem selbst! \n",
    "- (B) Ergänze den Code an der angegebenen Stelle\n",
    "- (C) Finde den Fehler\n",
    "- (D) Für die Aufgabe muss du (beabsichtigt) die Suchmaschine deines Vertrauens betätigen\n",
    "---"
   ]
  },
  {
   "cell_type": "markdown",
   "metadata": {},
   "source": [
    "**(A-1)** Finde heraus ob eine Zahl die Teiler 3,4,7 besitzt. Gebe alle Teiler gleichzeitig als Liste aus!\n",
    "Bsp: ```6``` -> 3, ```42``` -> 3,7. Den Teiler überprüfst Du mit ``%`` also ``Zahlvariable%Teilervariable == 0``.\n",
    "\n",
    "*Zusatz*: Statt die Zahl, die geprüft wird direkt zu als Variable zu definieren, probiere es mal mit dem Befehl ``` input()```. Wandele die Eingabe in eine Zahl um.\n"
   ]
  },
  {
   "cell_type": "code",
   "execution_count": 6,
   "metadata": {},
   "outputs": [
    {
     "name": "stdout",
     "output_type": "stream",
     "text": [
      "Gebe eine Zahl ein:42\n"
     ]
    },
    {
     "data": {
      "text/plain": [
       "[3, 7]"
      ]
     },
     "execution_count": 6,
     "metadata": {},
     "output_type": "execute_result"
    }
   ],
   "source": [
    "Zahl = int(input(\"Gebe eine Zahl ein:\"))\n",
    "\n",
    "def Test(zahl):\n",
    "     # Anlegen einer Liste - hier können die Teiler dynamisch erweitert werden\n",
    "    Teiler_test = [3,4,7]\n",
    "\n",
    "   \n",
    "    Teiler_real = list()\n",
    "\n",
    "    for i in Teiler_test:\n",
    "        # Testen ob der Teiler-Kandidat ein richtiger Teiler ist\n",
    "        if Zahl%i == 0: \n",
    "            Teiler_real.append(i)\n",
    "\n",
    "    return Teiler_real\n",
    "\n",
    "Test(Zahl)\n",
    "\n"
   ]
  },
  {
   "cell_type": "markdown",
   "metadata": {},
   "source": [
    "**(A-2)** Schreibe eine Funktion die n! berechnet. (Analog zu der Aufgabe im Schleifen-Teil, nur eben als Funktion)\n",
    "\n",
    "Bsp: $5! = 5 \\cdot 4 \\cdot 3 \\cdot 2 \\cdot 1$"
   ]
  },
  {
   "cell_type": "code",
   "execution_count": 7,
   "metadata": {},
   "outputs": [
    {
     "data": {
      "text/plain": [
       "120"
      ]
     },
     "execution_count": 7,
     "metadata": {},
     "output_type": "execute_result"
    }
   ],
   "source": [
    "def fact_num(n):\n",
    "    fact = n\n",
    "\n",
    "    # Achte auf die richtige Kombination, aus Bedingung und Position des Runterzählens\n",
    "    while n != 1 : \n",
    "        n = n - 1   # Runterzählen\n",
    "        fact *= n   # Produkt bilden\n",
    "    \n",
    "    return fact\n",
    "\n",
    "fact_num(5)"
   ]
  },
  {
   "cell_type": "markdown",
   "metadata": {},
   "source": [
    "**(A-3- Fortgeschritten)** Auslesen von Emailadressen \n",
    "\n",
    "1. Schreibe eine Funktion, die den Vornamen und Nachnamen einer Emailadresse im ```vorname.name@h-da.de``` Stil ausliest. \n",
    "\n",
    "2. Begrüße die Person mit Hallo VORNAME NACHNAME.\n",
    "\n",
    "Bsp: Trainer.Pool@h-da.de -> ```\"Hallo Trainer Pool\"```\n",
    "\n",
    "3. Passe den Code mit Bedingungen so an, dass Adressen im Format ```vorname.zweitname.name@h-da.de``` kein Problem sind. Begrüße die Person nur mit ihren ersten Vornamen!\n",
    "\n",
    "Bsp: T.Rainer.Pool@h-da.de -> ```\"Hallo T Pool\"```\n",
    "\n",
    "*Hinweis: Hierfür brauchst du Bedingungen, eigene Funktionen und die String-Methode ```string.split(..)```*"
   ]
  },
  {
   "cell_type": "code",
   "execution_count": null,
   "metadata": {},
   "outputs": [],
   "source": [
    "\n",
    "\n",
    "\n",
    "\n"
   ]
  },
  {
   "cell_type": "markdown",
   "metadata": {},
   "source": [
    "**(B-1)** Erstelle einen Motivationsgenerator! Hierfür soll die eine zufälliger Wert der Liste Text_Auswahl ausgegeben werden. Erzeuge die Zufallszahl (zwischen 0 und 1) dafür mit ``random.random()``  und diskretisiere diese auf den Wertebereich der Liste. Das Ganze wird in eine Funktion verpackt."
   ]
  },
  {
   "cell_type": "code",
   "execution_count": 121,
   "metadata": {},
   "outputs": [
    {
     "data": {
      "text/plain": [
       "'Du bist super!'"
      ]
     },
     "execution_count": 121,
     "metadata": {},
     "output_type": "execute_result"
    }
   ],
   "source": [
    "import random \n",
    "\n",
    "Text_Auswahl = [\"Du schaffst das!\",\"Super gemacht!\",\n",
    "                \"Ich bin dein größter Fan\",\"Du bist super!\",\n",
    "                \"..einfach fantastisch!\",\"Ein Python-Meister\"]\n",
    "\n",
    "#************ Ergänze den Code unter dieser Zeile *****************\n",
    "\n",
    "# Funktionsdefinition\n",
    "def GeneratorMotivation(random_number):\n",
    "    zufallszahl_bereich = int(random_number * (len(Text_Auswahl)))\n",
    "    return Text_Auswahl[zufallszahl_bereich]\n",
    "\n",
    "#************ Ergänze den Code über dieser Zeile *****************\n",
    "\n",
    "# Funktionsaufruf\n",
    "GeneratorMotivation(random.random())"
   ]
  },
  {
   "cell_type": "markdown",
   "metadata": {},
   "source": [
    "**(C-1)** Finde die Fehler (3 Fehler)"
   ]
  },
  {
   "cell_type": "code",
   "execution_count": 122,
   "metadata": {},
   "outputs": [
    {
     "data": {
      "text/plain": [
       "2.5"
      ]
     },
     "execution_count": 122,
     "metadata": {},
     "output_type": "execute_result"
    }
   ],
   "source": [
    "def Mittelwert(x):\n",
    "     return sum(x)/len(x)\n",
    "\n",
    "Mittelwert([1,2,3,4])"
   ]
  },
  {
   "cell_type": "markdown",
   "metadata": {},
   "source": [
    "**(D)** Suche Dir eine eigene Zusatzaufgabe. Programmiere beispielsweise eine Formel aus deinem Studium als Funktion oder probiere die Lösung bisherige Aufgaben in eine Funktion mit Parametern zu überführen.\n",
    "\n",
    "[Daumen hoch](https://media.giphy.com/media/3o7abKhOpu0NwenH3O/giphy.gif)"
   ]
  }
 ],
 "metadata": {
  "kernelspec": {
   "display_name": "Python 3",
   "language": "python",
   "name": "python3"
  },
  "language_info": {
   "codemirror_mode": {
    "name": "ipython",
    "version": 3
   },
   "file_extension": ".py",
   "mimetype": "text/x-python",
   "name": "python",
   "nbconvert_exporter": "python",
   "pygments_lexer": "ipython3",
   "version": "3.8.5"
  }
 },
 "nbformat": 4,
 "nbformat_minor": 4
}
