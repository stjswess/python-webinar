{
 "cells": [
  {
   "cell_type": "markdown",
   "metadata": {},
   "source": [
    "# Voraufgabe zum Einstieg \n",
    "\n",
    "**A** Zähle alle Zahlen zwischen 1 bis 1000 mithilfe einer Schleife zusammen\n",
    "\n",
    "**B** Erstelle ein kleines Python-Quiz mit Bedingungen (2-3 Fragen) und benutzte ``x = input(“Frage?“)`` für die Benutzereingabe. "
   ]
  },
  {
   "cell_type": "code",
   "execution_count": 7,
   "metadata": {},
   "outputs": [
    {
     "name": "stdout",
     "output_type": "stream",
     "text": [
      "500500\n"
     ]
    }
   ],
   "source": [
    "# Aufgabe A\n",
    "\n",
    "summe = 0 # Zwischenspeicher \n",
    "\n",
    "for i in range(1,1001): # Denk dran, dass der Endwert immer eins höher sein muss\n",
    "    summe =+ summe + i\n",
    "\n",
    "print(summe)"
   ]
  },
  {
   "cell_type": "code",
   "execution_count": 10,
   "metadata": {},
   "outputs": [
    {
     "name": "stdout",
     "output_type": "stream",
     "text": [
      "Welcher Datentyp wird mit {'key' : 1} angelegt?Dict\n",
      "Richtig\n",
      "Welche Schleifentypen kennst Du?for\n",
      "Richtig\n"
     ]
    }
   ],
   "source": [
    "# Aufgabe B\n",
    "\n",
    "# Frage 1\n",
    "frage = \"Welcher Datentyp wird mit {'key' : 1} angelegt?\"\n",
    "antwort = input(frage)\n",
    "\n",
    "if antwort == \"Dict\":\n",
    "    print(\"Richtig\")\n",
    "else:\n",
    "    print(\"Leider falsch\")\n",
    "    \n",
    "\n",
    "# Frage 2\n",
    "frage = \"Welche Schleifentypen kennst Du?\"\n",
    "antwort = input(frage)\n",
    "\n",
    "if antwort == \"for\" or antwort == \"while\":\n",
    "    print(\"Richtig\")\n",
    "else:\n",
    "    print(\"Leider falsch\")\n",
    "    "
   ]
  },
  {
   "cell_type": "markdown",
   "metadata": {},
   "source": [
    "# Teil 2: Programmiergrundlagen - Bedingungen und Schleifen\n",
    "\n",
    "Das wird doch schon! Beiseite mit den einfachen Aufgaben. Hier bekommst Du größere Aufgabenblöcke. Wenn Du mal steckenbleiben solltest oder keine Idee hast, probiere gerne die Teilaufgaben einzeln zu lösen oder springe zur nächsten Aufgabe.\n",
    "\n",
    "Frag gerne nach, falls Du die Syntax nicht kennst.\n",
    "\n",
    "---\n",
    "\n",
    "**Folgende Aufgabentypen werden angeboten**\n",
    "- (A) Löse das Problem selbst! \n",
    "- (B) Ergänze den Code an der angegebenen Stelle\n",
    "- (C) Finde den Fehler\n",
    "- (D) Für die Aufgabe muss du (beabsichtigt) die Suchmaschine deines Vertrauens betätigen\n",
    "---"
   ]
  },
  {
   "cell_type": "markdown",
   "metadata": {},
   "source": [
    "**(A-1)** Finde heraus ob eine Zahl die Teiler 3,4,7 besitzt. Gebe alle Teiler gleichzeitig als Liste aus!\n",
    "Bsp: ```6``` -> 3, ```42``` -> 3,7. Den Teiler überprüfst Du mit ``%`` also ``Zahlvariable%Teilervariable == 0``.\n",
    "\n",
    "*Zusatz*: Statt die Zahl, die geprüft wird direkt zu als Variable zu definieren, probiere es mal mit dem Befehl ``` input()```. Wandele die Eingabe in eine Zahl um.\n"
   ]
  },
  {
   "cell_type": "code",
   "execution_count": 14,
   "metadata": {},
   "outputs": [
    {
     "name": "stdout",
     "output_type": "stream",
     "text": [
      "Gebe eine Zahl ein:42\n"
     ]
    },
    {
     "data": {
      "text/plain": [
       "[3, 7]"
      ]
     },
     "execution_count": 14,
     "metadata": {},
     "output_type": "execute_result"
    }
   ],
   "source": [
    "Zahl = int(input(\"Gebe eine Zahl ein: \"))\n",
    "Teiler = []\n",
    "\n",
    "if Zahl%3 == 0:\n",
    "    Teiler.append(3)\n",
    "    \n",
    "if Zahl%4 == 0:\n",
    "    Teiler.append(4)\n",
    "    \n",
    "if Zahl%7 == 0:\n",
    "    Teiler.append(7)\n",
    "\n",
    "Teiler"
   ]
  },
  {
   "cell_type": "code",
   "execution_count": 17,
   "metadata": {},
   "outputs": [
    {
     "name": "stdout",
     "output_type": "stream",
     "text": [
      "Gebe eine Zahl ein:56\n"
     ]
    },
    {
     "data": {
      "text/plain": [
       "[4, 7]"
      ]
     },
     "execution_count": 17,
     "metadata": {},
     "output_type": "execute_result"
    }
   ],
   "source": [
    "# Alternativ und dynamisch\n",
    "\n",
    "# Initalisierung\n",
    "Zahl = int(input(\"Gebe eine Zahl ein:\"))\n",
    "Teiler_test = [3,4,7] # Anlegen einer Liste - hier können die Teiler dynamisch erweitert werden\n",
    "Teiler_real = list()\n",
    "\n",
    "for i in Teiler_test:\n",
    "    # Testen ob der Teiler-Kandidat ein richtiger Teiler ist\n",
    "    if Zahl%i == 0: \n",
    "        Teiler_real.append(i)\n",
    "        \n",
    "Teiler_real"
   ]
  },
  {
   "cell_type": "markdown",
   "metadata": {},
   "source": [
    "**(A-2)** Gegeben sei eine Rendite ``p`` (Bsp. 7%), wie lange dauert es bei jährlicher Verzinsung mit Zinseszinseffekt, bis sich der Anfangswert ``x = 100`` verdoppelt? Gebe die Jahresanzahl aus.\n",
    "\n",
    "*Hilfestellung* Rechne für jedes Jahr den aktuellen Stand (Zwischenspeicher in einer Variable) mal 1 + Rendite"
   ]
  },
  {
   "cell_type": "code",
   "execution_count": 22,
   "metadata": {},
   "outputs": [
    {
     "data": {
      "text/plain": [
       "'Die Anfangssumme wird nach 11 Jahren verdoppelt'"
      ]
     },
     "execution_count": 22,
     "metadata": {},
     "output_type": "execute_result"
    }
   ],
   "source": [
    "p = 0.07\n",
    "jahr = 0\n",
    "x = 100\n",
    "x_jahr = x\n",
    "\n",
    "# Solange der Wert x_jahr nicht größer als der doppelte Anfangwert ist\n",
    "while x_jahr < 2*x:\n",
    "    x_jahr = x_jahr * (1+p) # Verzinsung\n",
    "    jahr += 1               # Zählen der Jahre\n",
    "\n",
    "\"Die Anfangssumme wird nach {} Jahren verdoppelt\".format(jahr)"
   ]
  },
  {
   "cell_type": "markdown",
   "metadata": {},
   "source": [
    "**(A-3)** Schreibe eine Programm welches n! berechnet. Benutze dafür eine ```while```-Schleife (damit Du auch diese trainierst). Speicher das Zwischenergebnis in einer Variable und erniedrige die Zahl in jedem Schritt um eins.\n",
    "\n",
    "Bsp: $5! = 5 \\cdot 4 \\cdot 3 \\cdot 2 \\cdot 1$"
   ]
  },
  {
   "cell_type": "code",
   "execution_count": 27,
   "metadata": {},
   "outputs": [
    {
     "data": {
      "text/plain": [
       "120"
      ]
     },
     "execution_count": 27,
     "metadata": {},
     "output_type": "execute_result"
    }
   ],
   "source": [
    "n = 5\n",
    "fact = n\n",
    "\n",
    "# Achte auf die richtige Kombination, aus Bedingung und Position des Runterzählens\n",
    "while n != 1 : \n",
    "    n = n - 1   # Runterzählen\n",
    "    fact *= n   # Produkt bilden\n",
    "    \n",
    "fact"
   ]
  },
  {
   "cell_type": "markdown",
   "metadata": {},
   "source": [
    "**(A-4 - Fortgeschritten)** Ermittle alle Primzahlen im Bereich von 0 bis 100 nach dem [Sieb des\n",
    "Eratosthenes](https://de.wikipedia.org/wiki/Sieb_des_Eratosthenes). *Die Aufgabe ist etwas aufwendiger, du kannst gerne auch zu anderen Aufgaben springen*\n",
    "\n",
    "Hier sind mehrere Varianten dargestellt:"
   ]
  },
  {
   "cell_type": "code",
   "execution_count": 42,
   "metadata": {},
   "outputs": [
    {
     "name": "stdout",
     "output_type": "stream",
     "text": [
      "[2, 3, 5, 7, 11, 13, 17, 19, 23, 29, 31, 37, 41, 43, 47, 53, 59, 61, 67, 71, 73, 79, 83, 89, 97]\n"
     ]
    }
   ],
   "source": [
    "# Initalisierung des Bereiches (Limit Primzahlenfinder)\n",
    "Bereich = 100\n",
    "liste = list(range(2,Bereich)) # Anlegen der Zahlenmenge zum Sieben\n",
    "prim = []                      # Leere Liste für Primzahlen\n",
    "\n",
    "while len(liste) != 0:         # bis die Liste leergesiebt ist\n",
    "    prim.append(liste[0])      # immer das übrige Element ist ausgesiebt\n",
    "    \n",
    "    # Aussieben: Jedes verbliebene Element (el) bleibt in der Liste \n",
    "    # wenn es nicht durch die gerade ausgesuchte Primzahl teilbar ist\n",
    "    liste = [el for el in liste if el%liste[0] != 0] \n",
    "\n",
    "# Ausgabe der Primzahlen\n",
    "print(prim)"
   ]
  },
  {
   "cell_type": "code",
   "execution_count": 44,
   "metadata": {},
   "outputs": [
    {
     "name": "stdout",
     "output_type": "stream",
     "text": [
      "[2, 3, 5, 7, 11, 13, 17, 19, 23, 29, 31, 37, 41, 43, 47, 53, 59, 61, 67, 71, 73, 79, 83, 89, 97]\n"
     ]
    }
   ],
   "source": [
    "# Lange Version zum Verständnis\n",
    "\n",
    "primzahl = []\n",
    "nicht_primzahl = []\n",
    "\n",
    "# Funktion (kommt noch) welches als Rückgabewert das Vielfache einer Zahl ausgibt\n",
    "def Vielfaches(x):\n",
    "    wert = x**2\n",
    "    wert_liste = []\n",
    "    while wert < 100:\n",
    "        wert_liste.append(wert)\n",
    "        wert += x\n",
    "    return wert_liste\n",
    "\n",
    "for i in range(2,100):\n",
    "    nicht_primzahl += Vielfaches(i)  # anhängen an die Liste\n",
    "    if i not in nicht_primzahl:\n",
    "        primzahl.append(i)\n",
    "        \n",
    "print(primzahl)"
   ]
  },
  {
   "cell_type": "code",
   "execution_count": 45,
   "metadata": {},
   "outputs": [
    {
     "name": "stdout",
     "output_type": "stream",
     "text": [
      "[2, 3, 5, 7, 11, 13, 17, 19, 23, 29, 31, 37, 41, 43, 47, 53, 59, 61, 67, 71, 73, 79, 83, 89, 97]\n"
     ]
    }
   ],
   "source": [
    "# Kurze Version mit List Comprehensions\n",
    "nichtprim = [i for j in range(2,100) for i in range(j*2, 100, j)]\n",
    "primzahlen = [x for x in range(2, 100) if x not in nichtprim]\n",
    "print(primzahlen)"
   ]
  },
  {
   "cell_type": "markdown",
   "metadata": {},
   "source": [
    "**(B-1)** Erstelle ein Programm, welches den Benutzer solange raten lässt, bis er die richtige Zahl zwischen 3 und 13 erraten hat"
   ]
  },
  {
   "cell_type": "code",
   "execution_count": 41,
   "metadata": {},
   "outputs": [
    {
     "name": "stdout",
     "output_type": "stream",
     "text": [
      "Rate meine Zahl:3\n",
      "Rate meine Zahl:4\n",
      "Rate meine Zahl:5\n",
      "Rate meine Zahl:6\n",
      "Glückwunsch! Spiel vorbei\n"
     ]
    }
   ],
   "source": [
    "import random\n",
    "\n",
    "Zahl = round(random.random()*10)+3 \n",
    "Rateversuch = None\n",
    "\n",
    "#************ Ergänze den Code unter dieser Zeile *****************\n",
    "while Rateversuch != Zahl:\n",
    "    Rateversuch = int(input(\"Rate meine Zahl:\")) # Vergesse das int nicht, sonst kommt es nicht zu einer Übereinstimmung\n",
    "\n",
    "#************ Ergänze den Code über dieser Zeile *****************\n",
    "\n",
    "print(\"Glückwunsch! Spiel vorbei\")"
   ]
  },
  {
   "cell_type": "markdown",
   "metadata": {},
   "source": [
    "**(B-2)** Gehen wir shoppen! Im Dictionary sind die Elemente im Supermarkt mit Preisen gelistet. Du hast eine Einkaufslist. Berechne die Preise deines Einkaufs mit einer List-Comprehension und der Standardfunktion``sum()``.\n",
    "\n",
    "*Zusatz*: Wandele das Beispiel ab, damit du mit Mengenangaben arbeiten kannst. Tatsächlich ist eine verschachtelte List-Comprehension hier auch möglich. Du kannst aber auch gerne mit Zwischenschritten und Schleifen arbeiten."
   ]
  },
  {
   "cell_type": "code",
   "execution_count": 49,
   "metadata": {},
   "outputs": [
    {
     "data": {
      "text/plain": [
       "17.33"
      ]
     },
     "execution_count": 49,
     "metadata": {},
     "output_type": "execute_result"
    }
   ],
   "source": [
    "Preise = {\"Butter\" :  1.19,\n",
    "         \"Marmelade\" : 1.10,\n",
    "         \"4-lagiges Toilettenpapier\" : 2.99,\n",
    "         \"Apfel\" : 0.49,\n",
    "         \"Shampoo\" : 1.49,\n",
    "         \"Kaffee\" : 8.99,\n",
    "         \"Nudeln\" : 1.49 \n",
    "        }\n",
    "Einkaufsliste = [\"Butter\", \"Kaffee\", \"Nudeln\",\"Shampoo\"]\n",
    "Einkaufsliste_Menge = {\"Butter\" : 2 , \"Kaffee\" : 1, \"Nudeln\" : 3,\"Shampoo\" : 1} # (für Fortgeschrittene)\n",
    "\n",
    "#************ Ergänze den Code unter dieser Zeile *****************\n",
    "\n",
    "\n",
    "# Funktion um das Geld der Einkaufsliste zusammenzuzählen\n",
    "sum([Preise[item] for item in Einkaufsliste])\n",
    "\n",
    "# List Comprehension mit Mengen\n",
    "sum([Preise[item]*Einkaufsliste_Menge[item] for item in Einkaufsliste_Menge.keys()])\n"
   ]
  },
  {
   "cell_type": "markdown",
   "metadata": {},
   "source": [
    "**(B-3)** Gegeben ist der folgende Text als mehrzeiliger String. Zähle das Vorkommen der Worte. Hierfür kannst Du beispielsweise ein Dictonairy verwenden. Trenne den Text in eine Liste mit der Funktion ``str.split(\" \")`` und arbeite dann mit einer Schleife weiter. Für jedes Wort kannst Du (falls noch nicht geschehen) ein Dictionary-Eintrag erstellen oder diesen hochzählen."
   ]
  },
  {
   "cell_type": "code",
   "execution_count": null,
   "metadata": {},
   "outputs": [],
   "source": [
    "lorem_ipsum = \"\"\"Lorem ipsum dolor sit amet, consetetur sadipscing elitr, sed diam nonumy eirmod tempor invidunt ut labore\n",
    "et dolore magna aliquyam erat, sed diam voluptua. At vero eos et accusam et justo duo dolores et ea rebum. Stet clita kasd \n",
    "gubergren, no sea takimata sanctus est Lorem ipsum dolor sit amet. Lorem ipsum dolor sit amet, consetetur sadipscing elitr,\n",
    "sed diam nonumy eirmod tempor invidunt ut labore et dolore magna aliquyam erat, sed diam voluptua. At vero eos et accusam \n",
    "et justo duo dolores et ea rebum. Stet clita kasd gubergren, no sea takimata sanctus est Lorem ipsum dolor sit amet.\"\"\"\n",
    "\n",
    "#************ Ergänze den Code unter dieser Zeile *****************\n",
    "\n",
    "# Trennen an Leerzeichen\n",
    "split_text = lorem_ipsum.split(\" \")\n",
    "\n",
    "# Dict zum Speichern der Wörter\n",
    "count_dict = {}\n",
    "\n",
    "for wort in split_text:\n",
    "    if wort in count_dict.keys(): # Wort bekannt\n",
    "        count_dict[wort] = count_dict[wort] + 1\n",
    "    else: # Wort unbekannt\n",
    "        count_dict[wort] = 1\n",
    "        \n",
    "count_dict"
   ]
  },
  {
   "cell_type": "markdown",
   "metadata": {},
   "source": [
    "**(C-1)** Finde die Fehler (4 Fehler)"
   ]
  },
  {
   "cell_type": "code",
   "execution_count": 52,
   "metadata": {},
   "outputs": [
    {
     "name": "stdout",
     "output_type": "stream",
     "text": [
      "Die Zahl ist 10.\n",
      "y ist größer als 10\n"
     ]
    }
   ],
   "source": [
    "x = 10\n",
    "\n",
    "if x==10:\n",
    "    print('Die Zahl ist 10.')\n",
    "else:\n",
    "    print('Die Zahl ist nicht 10.')\n",
    "\n",
    "y=12\n",
    "\n",
    "if y>10:\n",
    "    print('y ist größer als 10');\n"
   ]
  },
  {
   "cell_type": "markdown",
   "metadata": {},
   "source": [
    "**(C-2)** Im folgenden Code soll der Wert eine Variable verdoppelt werden, bis sie 100 überschreitet. Finde die Fehler! (1 Fehler)"
   ]
  },
  {
   "cell_type": "code",
   "execution_count": 54,
   "metadata": {},
   "outputs": [
    {
     "name": "stdout",
     "output_type": "stream",
     "text": [
      "Gebe eine Zahl ein: 2\n",
      "<class 'int'>\n",
      "4\n",
      "8\n",
      "16\n",
      "32\n",
      "64\n",
      "128\n"
     ]
    }
   ],
   "source": [
    "a = int(input(\"Gebe eine Zahl ein: \"))\n",
    "print(type(a))\n",
    "     \n",
    "while a < 100:\n",
    "    a *= 2\n",
    "    print(a)"
   ]
  },
  {
   "cell_type": "markdown",
   "metadata": {},
   "source": [
    "**(D)** Suche Dir eine eigene Zusatzaufgabe. Programmiere beispielsweise eine Formel aus deinem Studium oder nutze folgende Vorschläge:\n",
    "\n",
    "* Programmiere den [euklidischen Algorithmus](https://de.serlo.org/mathe/zahlen-groessen/teiler-primzahlen/teiler-vielfache/euklidischer-algorithmus) zum Finden des größten gemeinsamen Teilers. \n",
    "* Programmiere eine Primfaktorzerlegung einer Zahl "
   ]
  },
  {
   "cell_type": "code",
   "execution_count": null,
   "metadata": {},
   "outputs": [],
   "source": [
    "# Euklidischer Algorithmus\n",
    "\n",
    "a,b = 56,20\n",
    "\n",
    "if a == 0:\n",
    "    print(b)\n",
    "else:\n",
    "    while b != 0:\n",
    "        if a > b:\n",
    "            a -= b\n",
    "        else:\n",
    "            b -= a\n",
    "    print(a)"
   ]
  },
  {
   "cell_type": "code",
   "execution_count": null,
   "metadata": {},
   "outputs": [],
   "source": [
    "# Primfaktorzerlegung\n",
    "a = 234567\n",
    "\n",
    "primfaktoren = []\n",
    "for i in range(2,a):\n",
    "    # Austeigen wenn i > a\n",
    "    if i > a: break\n",
    "        \n",
    "    # Zahl ist ein Primfaktor\n",
    "    if a % i == 0:\n",
    "        primfaktoren.append(i)\n",
    "        a /= i\n",
    "        # Zurücksetzen von i wegen doppelten Faktoren 4 -> 2 * 2\n",
    "        i -= 1\n",
    "        \n",
    "primfaktoren        "
   ]
  },
  {
   "cell_type": "markdown",
   "metadata": {},
   "source": [
    "<center> \n",
    "<h1>Gut gemacht!</h1> </center>\n",
    "<a href=\"https://tenor.com/view/woah-awesome-great-applause-gif-5237798\" target=\"_blank\"> kleine Belohnung </a>\n"
   ]
  }
 ],
 "metadata": {
  "kernelspec": {
   "display_name": "Python 3",
   "language": "python",
   "name": "python3"
  },
  "language_info": {
   "codemirror_mode": {
    "name": "ipython",
    "version": 3
   },
   "file_extension": ".py",
   "mimetype": "text/x-python",
   "name": "python",
   "nbconvert_exporter": "python",
   "pygments_lexer": "ipython3",
   "version": "3.8.5"
  }
 },
 "nbformat": 4,
 "nbformat_minor": 2
}
