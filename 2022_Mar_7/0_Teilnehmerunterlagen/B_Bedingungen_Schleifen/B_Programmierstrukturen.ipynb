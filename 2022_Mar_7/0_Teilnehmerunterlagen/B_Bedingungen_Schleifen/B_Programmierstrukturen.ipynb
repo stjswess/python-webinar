{
 "cells": [
  {
   "cell_type": "markdown",
   "metadata": {},
   "source": [
    "# Voraufgabe zum Einstieg \n",
    "\n",
    "**A** Zähle alle Zahlen zwischen 1 bis 1000 mithilfe einer Schleife zusammen\n",
    "\n",
    "**B** Erstelle ein kleines Python-Quiz mit Bedingungen (2-3 Fragen) und benutzte ``x = input(“Frage?“)`` für die Benutzereingabe. "
   ]
  },
  {
   "cell_type": "code",
   "execution_count": null,
   "metadata": {},
   "outputs": [],
   "source": [
    "\n",
    "\n",
    "\n",
    "\n"
   ]
  },
  {
   "cell_type": "markdown",
   "metadata": {},
   "source": [
    "# Teil 2: Programmiergrundlagen - Bedingungen und Schleifen\n",
    "\n",
    "Das wird doch schon! Beiseite mit den einfachen Aufgaben. Hier bekommst Du größere Aufgabenblöcke. Wenn Du mal steckenbleiben solltest oder keine Idee hast, probiere gerne die Teilaufgaben einzeln zu lösen oder springe zur nächsten Aufgabe.\n",
    "\n",
    "Frag gerne nach, falls Du die Syntax nicht kennst.\n",
    "\n",
    "---\n",
    "\n",
    "**Folgende Aufgabentypen werden angeboten**\n",
    "- (A) Löse das Problem selbst! \n",
    "- (B) Ergänze den Code an der angegebenen Stelle\n",
    "- (C) Finde den Fehler\n",
    "- (D) Für die Aufgabe muss du (beabsichtigt) die Suchmaschine deines Vertrauens betätigen\n",
    "---"
   ]
  },
  {
   "cell_type": "markdown",
   "metadata": {},
   "source": [
    "**(A-1)** Finde heraus ob eine Zahl die Teiler 3,4,7 besitzt. Gebe alle Teiler gleichzeitig als Liste aus!\n",
    "Bsp: ```6``` -> 3, ```42``` -> 3,7. Den Teiler überprüfst Du mit ``%`` also ``Zahlvariable%Teilervariable == 0``.\n",
    "\n",
    "*Zusatz*: Statt die Zahl, die geprüft wird direkt zu als Variable zu definieren, probiere es mal mit dem Befehl ``` input()```. Wandele die Eingabe in eine Zahl um.\n"
   ]
  },
  {
   "cell_type": "code",
   "execution_count": 4,
   "metadata": {},
   "outputs": [
    {
     "name": "stdout",
     "output_type": "stream",
     "text": [
      "Gebe eine Zahl ein: 84\n",
      "[3, 4, 7]\n"
     ]
    }
   ],
   "source": [
    "\n",
    "\n",
    "\n"
   ]
  },
  {
   "cell_type": "markdown",
   "metadata": {},
   "source": [
    "**(A-2)** Gegeben sei eine Rendite ``p`` (Bsp. 7%), wie lange dauert es bei jährlicher Verzinsung mit Zinseszinseffekt, bis sich der Anfangswert ``x = 100`` verdoppelt? Gebe die Jahresanzahl aus.\n",
    "\n",
    "*Hilfestellung* Rechne für jedes Jahr den aktuellen Stand (Zwischenspeicher in einer Variable) mal 1 + Rendite"
   ]
  },
  {
   "cell_type": "code",
   "execution_count": null,
   "metadata": {},
   "outputs": [],
   "source": [
    "\n",
    "\n",
    "\n"
   ]
  },
  {
   "cell_type": "markdown",
   "metadata": {},
   "source": [
    "**(A-3)** Schreibe eine Programm welches n! berechnet. Benutze dafür eine ```while```-Schleife (damit Du auch diese trainierst). Speicher das Zwischenergebnis in einer Variable und erniedrige die Zahl in jedem Schritt um eins.\n",
    "\n",
    "Bsp: $5! = 5 \\cdot 4 \\cdot 3 \\cdot 2 \\cdot 1$"
   ]
  },
  {
   "cell_type": "code",
   "execution_count": null,
   "metadata": {},
   "outputs": [],
   "source": [
    "\n",
    "\n",
    "\n",
    "\n"
   ]
  },
  {
   "cell_type": "markdown",
   "metadata": {},
   "source": [
    "**(A-4 - Fortgeschritten)** Ermittle alle Primzahlen im Bereich von 0 bis 100 nach dem [Sieb des\n",
    "Eratosthenes](https://de.wikipedia.org/wiki/Sieb_des_Eratosthenes). *Die Aufgabe ist etwas aufwendiger, du kannst gerne auch zu anderen Aufgaben springen*"
   ]
  },
  {
   "cell_type": "code",
   "execution_count": null,
   "metadata": {},
   "outputs": [],
   "source": [
    "\n",
    "\n"
   ]
  },
  {
   "cell_type": "markdown",
   "metadata": {},
   "source": [
    "**(B-1)** Erstelle ein Programm, welches den Benutzer solange raten lässt, bis er die richtige Zahl zwischen 3 und 13 erraten hat"
   ]
  },
  {
   "cell_type": "code",
   "execution_count": 73,
   "metadata": {},
   "outputs": [
    {
     "name": "stdout",
     "output_type": "stream",
     "text": [
      "Rate meine Zahl:13\n",
      "Glückwunsch! Spiel vorbei\n"
     ]
    }
   ],
   "source": [
    "import random\n",
    "\n",
    "Zahl = round(random.random()*10)+3 \n",
    "\n",
    "#************ Ergänze den Code unter dieser Zeile *****************\n",
    "\n",
    "Rateversuch = input(\"Rate meine Zahl:\")\n",
    "\n",
    "#************ Ergänze den Code über dieser Zeile *****************\n",
    "\n",
    "print(\"Glückwunsch! Spiel vorbei\")"
   ]
  },
  {
   "cell_type": "markdown",
   "metadata": {},
   "source": [
    "**(B-2)** Gehen wir shoppen! Im Dictionary sind die Elemente im Supermarkt mit Preisen gelistet. Du hast eine Einkaufslist. Berechne die Preise deines Einkaufs mit einer List-Comprehension und der Standardfunktion``sum()``.\n",
    "\n",
    "*Zusatz*: Wandele das Beispiel ab, damit du mit Mengenangaben arbeiten kannst. Tatsächlich ist eine verschachtelte List-Comprehension hier auch möglich. Du kannst aber auch gerne mit Zwischenschritten und Schleifen arbeiten."
   ]
  },
  {
   "cell_type": "code",
   "execution_count": null,
   "metadata": {},
   "outputs": [],
   "source": [
    "Preise = {\"Butter\" :  1.19,\n",
    "         \"Marmelade\" : 1.10,\n",
    "         \"4-lagiges Toilettenpapier\" : 2.99,\n",
    "         \"Apfel\" : 0.49,\n",
    "         \"Shampoo\" : 1.49,\n",
    "         \"Kaffee\" : 8.99,\n",
    "         \"Nudeln\" : 1.49 \n",
    "        }\n",
    "Einkaufsliste = [\"Butter\", \"Kaffee\", \"Nudeln\",\"Shampoo\"]\n",
    "# Einkaufsliste_Menge = {\"Butter\" : 2 , \"Kaffee\" : 1, \"Nudeln\" : 3,\"Shampoo\" : 1} # (für Fortgeschrittene)\n",
    "\n",
    "#************ Ergänze den Code unter dieser Zeile *****************\n",
    "\n",
    "\n",
    "\n",
    "\n",
    "\n",
    "\n"
   ]
  },
  {
   "cell_type": "markdown",
   "metadata": {},
   "source": [
    "**(B-3)** Gegeben ist der folgende Text als mehrzeiliger String. Zähle das Vorkommen der Worte. Hierfür kannst Du beispielsweise ein Dictonairy verwenden. Trenne den Text in eine Liste mit der Funktion ``str.split(\" \")`` und arbeite dann mit einer Schleife weiter. Für jedes Wort kannst Du (falls noch nicht geschehen) ein Dictionary-Eintrag erstellen oder diesen hochzählen."
   ]
  },
  {
   "cell_type": "code",
   "execution_count": null,
   "metadata": {},
   "outputs": [],
   "source": [
    "lorem_ipsum = \"\"\"Lorem ipsum dolor sit amet, consetetur sadipscing elitr, sed diam nonumy eirmod tempor invidunt ut labore\n",
    "et dolore magna aliquyam erat, sed diam voluptua. At vero eos et accusam et justo duo dolores et ea rebum. Stet clita kasd \n",
    "gubergren, no sea takimata sanctus est Lorem ipsum dolor sit amet. Lorem ipsum dolor sit amet, consetetur sadipscing elitr,\n",
    "sed diam nonumy eirmod tempor invidunt ut labore et dolore magna aliquyam erat, sed diam voluptua. At vero eos et accusam \n",
    "et justo duo dolores et ea rebum. Stet clita kasd gubergren, no sea takimata sanctus est Lorem ipsum dolor sit amet.\"\"\"\n",
    "\n",
    "#************ Ergänze den Code unter dieser Zeile *****************\n",
    "\n",
    "\n",
    "\n",
    "\n"
   ]
  },
  {
   "cell_type": "markdown",
   "metadata": {},
   "source": [
    "**(C-1)** Finde die Fehler (4 Fehler)"
   ]
  },
  {
   "cell_type": "code",
   "execution_count": null,
   "metadata": {},
   "outputs": [],
   "source": [
    "x = 10\n",
    "\n",
    "if x==10\n",
    "    print('Die Zahl ist 10.')\n",
    "else\n",
    "    print('Die Zahl ist nicht 10.)\n",
    "\n",
    "y=12\n",
    "\n",
    "if y<10:\n",
    "    print('y ist größer als 10');\n"
   ]
  },
  {
   "cell_type": "markdown",
   "metadata": {},
   "source": [
    "**(C-2)** Im folgenden Code soll der Wert eine Variable verdoppelt werden, bis sie 100 überschreitet. Finde die Fehler! (1 Fehler)"
   ]
  },
  {
   "cell_type": "code",
   "execution_count": null,
   "metadata": {},
   "outputs": [],
   "source": [
    "a = input(\"Gebe eine Zahl ein: \")\n",
    "print(type(a))\n",
    "     \n",
    "while a < 100:\n",
    "    a *= 2\n",
    "    print(a)"
   ]
  },
  {
   "cell_type": "markdown",
   "metadata": {},
   "source": [
    "**(D)** Suche Dir eine eigene Zusatzaufgabe. Programmiere beispielsweise eine Formel aus deinem Studium oder nutze folgende Vorschläge:\n",
    "\n",
    "* Programmiere den [euklidischen Algorithmus](https://de.serlo.org/mathe/zahlen-groessen/teiler-primzahlen/teiler-vielfache/euklidischer-algorithmus) zum Finden des größten gemeinsamen Teilers. \n",
    "* Programmiere eine Primfaktorzerlegung einer Zahl "
   ]
  },
  {
   "cell_type": "code",
   "execution_count": null,
   "metadata": {},
   "outputs": [],
   "source": [
    "\n",
    "\n"
   ]
  },
  {
   "cell_type": "markdown",
   "metadata": {},
   "source": [
    "<center> \n",
    "<h1>Gut gemacht!</h1> </center>\n",
    "<a href=\"https://tenor.com/view/woah-awesome-great-applause-gif-5237798\" target=\"_blank\"> kleine Belohnung </a>\n"
   ]
  }
 ],
 "metadata": {
  "kernelspec": {
   "display_name": "Python 3",
   "language": "python",
   "name": "python3"
  },
  "language_info": {
   "codemirror_mode": {
    "name": "ipython",
    "version": 3
   },
   "file_extension": ".py",
   "mimetype": "text/x-python",
   "name": "python",
   "nbconvert_exporter": "python",
   "pygments_lexer": "ipython3",
   "version": "3.8.5"
  }
 },
 "nbformat": 4,
 "nbformat_minor": 2
}
