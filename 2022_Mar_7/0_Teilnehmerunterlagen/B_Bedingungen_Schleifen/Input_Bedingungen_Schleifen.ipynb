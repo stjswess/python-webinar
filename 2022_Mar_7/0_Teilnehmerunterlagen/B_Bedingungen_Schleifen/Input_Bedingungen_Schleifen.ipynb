{
 "cells": [
  {
   "cell_type": "markdown",
   "metadata": {},
   "source": [
    "# Programmierstrukturen\n",
    "## Bedingungen - Schleifen "
   ]
  },
  {
   "cell_type": "markdown",
   "metadata": {},
   "source": [
    "---\n",
    "\n",
    "### A Bedingungen und Verzweigungen\n",
    "Bei der Prüfung einer Bedingung wird ein Wahrheitswert geliefert. Dieser kann entweder True (1) und False (0) sein.\n",
    "Abhängig von dieser Prüfung kannst Du mit Verzweigungen (if Bedingungen) dein Programm gestalten."
   ]
  },
  {
   "cell_type": "code",
   "execution_count": 29,
   "metadata": {},
   "outputs": [],
   "source": [
    "# Anlegen einer boolschen Variable\n",
    "wahrheitswert = True"
   ]
  },
  {
   "cell_type": "markdown",
   "metadata": {},
   "source": [
    "#### Bedingungen\n",
    "Für die Prüfung kannst Du folgende Vergleichsoperatoren verwendet\n",
    "* **==** gleich\n",
    "* **!=** Nicht gleich\n",
    "* **<**  kleiner als\n",
    "* **\\>**  größer als\n",
    "* **\\>=** größer gleich\n",
    "* **<=** kleiner gleich\n",
    "\n",
    "#### a) Prüfungen einer Bedingung"
   ]
  },
  {
   "cell_type": "code",
   "execution_count": 2,
   "metadata": {},
   "outputs": [
    {
     "data": {
      "text/plain": [
       "False"
      ]
     },
     "execution_count": 2,
     "metadata": {},
     "output_type": "execute_result"
    }
   ],
   "source": [
    "# Prüfen auf Übereinstimmung\n",
    "a = 3\n",
    "b = 3\n",
    "\n",
    "a == b     # True\n",
    "1 == 1.0   # True\n",
    "'0' == 0   # False\n",
    "a != 3     # False"
   ]
  },
  {
   "cell_type": "markdown",
   "metadata": {},
   "source": [
    "#### b)  Verknüpfte Bedingungen\n",
    "Möchtest Du zwei Bedingungen miteinander verknüpfen, dann kannst Du logische Operatoren verwenden\n",
    "* **and** Beide Bedingungen müssen erfüllt sein\n",
    "* **or** Nur eine Bedinung muss erfüllt sein"
   ]
  },
  {
   "cell_type": "code",
   "execution_count": 22,
   "metadata": {},
   "outputs": [
    {
     "data": {
      "text/plain": [
       "True"
      ]
     },
     "execution_count": 22,
     "metadata": {},
     "output_type": "execute_result"
    }
   ],
   "source": [
    "a = 5\n",
    "a > 2 and a < 10  # False\n",
    "a > 2 or a <= 10   # True"
   ]
  },
  {
   "cell_type": "markdown",
   "metadata": {},
   "source": [
    "#### c) Vorhanden sein in einer Liste\n",
    "Mit ```a in l``` wird geprüft, ob der Wert von Variable a in der Liste l ist."
   ]
  },
  {
   "cell_type": "code",
   "execution_count": 4,
   "metadata": {},
   "outputs": [
    {
     "data": {
      "text/plain": [
       "True"
      ]
     },
     "execution_count": 4,
     "metadata": {},
     "output_type": "execute_result"
    }
   ],
   "source": [
    "a in [1,2,3,4,5]      # True\n",
    "a not in [1,2,3,4,5]  # False"
   ]
  },
  {
   "cell_type": "markdown",
   "metadata": {},
   "source": [
    "#### Verzweigungen\n",
    "Mit einer Verzweigung kann der Ablauf eines Programms für bestimmte Fälle festgelegt werden. \n",
    "\n",
    "#### a) Einfaches If-Statement"
   ]
  },
  {
   "cell_type": "code",
   "execution_count": 25,
   "metadata": {},
   "outputs": [
    {
     "name": "stdout",
     "output_type": "stream",
     "text": [
      "Wert von a: 3, Wert von b: 3\n"
     ]
    }
   ],
   "source": [
    "print(\"Wert von a: {}, Wert von b: {}\".format(a,b))\n",
    "\n",
    "if a > b:\n",
    "    print(\"a ist größer als b\")"
   ]
  },
  {
   "cell_type": "markdown",
   "metadata": {},
   "source": [
    "#### b) Mehrere Bedingungen\n",
    "Mit ```elif``` werden weitere Bedingungen angelegt. Diese werden geprüft, wenn vorherige Bedingungen **nicht** erfüllt wurden. Für den Fall das keine Bedingung zutrifft, wird der Teil unter ```else``` ausgeführt."
   ]
  },
  {
   "cell_type": "code",
   "execution_count": 28,
   "metadata": {},
   "outputs": [
    {
     "name": "stdout",
     "output_type": "stream",
     "text": [
      "a gleich b\n"
     ]
    }
   ],
   "source": [
    "if a > b:\n",
    "    print(\"a ist größer als b\")\n",
    "elif a == b:\n",
    "    print(\"a gleich b\")\n",
    "else:\n",
    "    print(\"a kleiner b\")"
   ]
  },
  {
   "cell_type": "markdown",
   "metadata": {},
   "source": [
    "---\n",
    "\n",
    "## B. Schleifen\n",
    "Mit Schleifen kann eine wiederholte Anweisung realisiert werden. Mit cleverer Parametersetzung spart man sich so eine Menge an Arbeit."
   ]
  },
  {
   "cell_type": "markdown",
   "metadata": {},
   "source": [
    "**a) For-Schleife**\n",
    "\n",
    "Die `range` Funktion in Python liefert Ihnen eine iterierbare Zahlenmenge.\n",
    "\n",
    "`range` besitzt drei Varianten:\n",
    "\n",
    "-   `range(ende)` erzeugt einen Bereich $0, ..., ende-1$\n",
    "-   `range(start, ende)` erzeugt einen Bereich $start, ..., ende-1$\n",
    "-   `range(start, ende, step)` erzeugt einen Bereich\n",
    "    $start, start+step, ..., ende-step$\n"
   ]
  },
  {
   "cell_type": "code",
   "execution_count": 4,
   "metadata": {},
   "outputs": [
    {
     "name": "stdout",
     "output_type": "stream",
     "text": [
      "1\n",
      "7\n",
      "9\n",
      "13\n"
     ]
    }
   ],
   "source": [
    "# For-Schleife durch eine Sequenz\n",
    "for i in [1,7,9,13]:\n",
    "    print(i)"
   ]
  },
  {
   "cell_type": "code",
   "execution_count": 2,
   "metadata": {},
   "outputs": [
    {
     "name": "stdout",
     "output_type": "stream",
     "text": [
      "20\n",
      "22\n",
      "24\n"
     ]
    }
   ],
   "source": [
    "# For-Schleife durch Range\n",
    "for i in range(20,30,2):\n",
    "    if i > 25 : break # Beendet den Code sobald es erreicht wird\n",
    "    print(i)"
   ]
  },
  {
   "cell_type": "code",
   "execution_count": 5,
   "metadata": {},
   "outputs": [
    {
     "name": "stdout",
     "output_type": "stream",
     "text": [
      "Das\n",
      "ist\n",
      "eine\n",
      "Liste\n",
      "mit\n",
      "Text\n"
     ]
    }
   ],
   "source": [
    "# Schleife durch eine Liste mit Text\n",
    "for item in [\"Das\",\"ist\",\"eine\",\"Liste\",\"mit\",\"Text\"]:\n",
    "    print(item)"
   ]
  },
  {
   "cell_type": "markdown",
   "metadata": {},
   "source": [
    "**b) While Schleifen**\n",
    "While Schleifen funktionieren mit einer Bedingung"
   ]
  },
  {
   "cell_type": "code",
   "execution_count": 13,
   "metadata": {},
   "outputs": [
    {
     "name": "stdout",
     "output_type": "stream",
     "text": [
      "1\n",
      "3.0\n",
      "9.196152422706632\n",
      "38.08363046757468\n",
      "274.10508713213494\n"
     ]
    }
   ],
   "source": [
    "j = 1\n",
    "\n",
    "# Vermeide unendliche Schleifen!\n",
    "while j < 1000:\n",
    "    print(j)\n",
    "    j += 1 + j ** 1.5"
   ]
  },
  {
   "cell_type": "markdown",
   "metadata": {},
   "source": [
    "**c) List Comprehension**"
   ]
  },
  {
   "cell_type": "code",
   "execution_count": 21,
   "metadata": {},
   "outputs": [
    {
     "name": "stdout",
     "output_type": "stream",
     "text": [
      "x: [4, 5, 10, 6]\n"
     ]
    },
    {
     "data": {
      "text/plain": [
       "[4, 5, 10, 6]"
      ]
     },
     "execution_count": 21,
     "metadata": {},
     "output_type": "execute_result"
    }
   ],
   "source": [
    "num = [3,4,9,5]\n",
    "\n",
    "# Langer Ausdruck\n",
    "x = []\n",
    "for item in num:\n",
    "    x.append(item+1)  \n",
    "print(\"x:\",x)\n",
    "\n",
    "# List Comprehension\n",
    "[item+1 for item in num]"
   ]
  },
  {
   "cell_type": "markdown",
   "metadata": {},
   "source": [
    "Die Comprehensions können mit einer If-Bedingung kombiniert sehr hilfreich sein"
   ]
  },
  {
   "cell_type": "code",
   "execution_count": 30,
   "metadata": {},
   "outputs": [
    {
     "name": "stdout",
     "output_type": "stream",
     "text": [
      "x: [1]\n"
     ]
    },
    {
     "data": {
      "text/plain": [
       "[1]"
      ]
     },
     "execution_count": 30,
     "metadata": {},
     "output_type": "execute_result"
    }
   ],
   "source": [
    "# Langer Ausdruck\n",
    "x = []\n",
    "for item in num:\n",
    "    if item >5:\n",
    "        x.append(1)  \n",
    "print(\"x:\",x)\n",
    "\n",
    "# List Comprehension\n",
    "[1 for item in num if item > 5]"
   ]
  }
 ],
 "metadata": {
  "kernelspec": {
   "display_name": "Python 3",
   "language": "python",
   "name": "python3"
  },
  "language_info": {
   "codemirror_mode": {
    "name": "ipython",
    "version": 3
   },
   "file_extension": ".py",
   "mimetype": "text/x-python",
   "name": "python",
   "nbconvert_exporter": "python",
   "pygments_lexer": "ipython3",
   "version": "3.8.5"
  }
 },
 "nbformat": 4,
 "nbformat_minor": 2
}
