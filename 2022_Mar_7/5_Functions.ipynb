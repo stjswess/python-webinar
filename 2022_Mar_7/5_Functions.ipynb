{
 "cells": [
  {
   "cell_type": "markdown",
   "metadata": {},
   "source": [
    "# Functions\n",
    "\n",
    "- Functions encapsulate code\n",
    "- They are used for the following reasons:\n",
    "    - Making code reusable and maintainable by avoiding duplications\n",
    "    - Splitting long code segments into small and clear parts"
   ]
  },
  {
   "cell_type": "code",
   "execution_count": 22,
   "metadata": {},
   "outputs": [
    {
     "name": "stdout",
     "output_type": "stream",
     "text": [
      "5\n"
     ]
    }
   ],
   "source": [
    "# Syntax\n",
    "# 1) Name *\n",
    "# 2) Parameters and types *\n",
    "# 3) Return types *\n",
    "# 4) Default parameters\n",
    "# 5) Named parameters\n",
    "# 6) Docstrings\n",
    "\n",
    "\n",
    "def add(a: int = 0, b: int = 0) -> int:\n",
    "    \"\"\"\n",
    "    This function adds two integer values and returns an integer value to the caller of the function.\n",
    "    \"\"\"\n",
    "    return a + b\n",
    "\n",
    "result = add(b=5)\n",
    "print(result)"
   ]
  },
  {
   "cell_type": "markdown",
   "metadata": {},
   "source": [
    "### Let's see some examples 🎆✨!"
   ]
  },
  {
   "cell_type": "code",
   "execution_count": 26,
   "metadata": {},
   "outputs": [
    {
     "name": "stdout",
     "output_type": "stream",
     "text": [
      "The complementary color of abba is unknown\n"
     ]
    }
   ],
   "source": [
    "# Defining a function\n",
    "def complementary_color(color: str) -> str:\n",
    "    color = color.lower() # \"Yellow\" -> \"yellow\", \"YELLOW\" -> \"yellow\"\n",
    "    if color == \"yellow\":\n",
    "        return \"purple\"\n",
    "    if color == \"purple\":\n",
    "        return \"yellow\"\n",
    "    if color == \"blue\":\n",
    "        return \"orange\"\n",
    "    if color == \"orange\":\n",
    "        return \"blue\"\n",
    "    if color == \"red\":\n",
    "        return \"green\"\n",
    "    if color == \"green\":\n",
    "        return \"red\"\n",
    "\n",
    "    return \"unknown\"\n",
    "\n",
    "\n",
    "# Calling a function\n",
    "color = input(\"Please enter a color: \")\n",
    "\n",
    "complementary = complementary_color(color)\n",
    "\n",
    "print(f\"The complementary color of {color} is {complementary}\")\n"
   ]
  },
  {
   "cell_type": "code",
   "execution_count": 2,
   "metadata": {},
   "outputs": [
    {
     "name": "stdout",
     "output_type": "stream",
     "text": [
      "Hi there here is the echo machine!\n",
      "We need to verify you for login.\n",
      "Great! You are logged in!\n",
      "Type anything to echo. Type 'x' to exit.\n",
      "hi\n",
      "hi\n",
      "what up\n",
      "Bye Bye!\n"
     ]
    }
   ],
   "source": [
    "# log in user and echo\n",
    "\n",
    "import getpass\n",
    "\n",
    "def validate_user() -> bool:\n",
    "    input = getpass.getpass('Enter your password: ')\n",
    "    return input == \"12345\"\n",
    "\n",
    "def echo_until_delim(delim: str):\n",
    "    while True:\n",
    "        user_input = input(\"\")\n",
    "        if user_input.lower() == delim:\n",
    "            return\n",
    "        print(f\"{user_input}\", flush=True)\n",
    "\n",
    "\n",
    "print(\"Hi there here is the echo machine!\\nWe need to verify you for login.\")\n",
    "if validate_user():\n",
    "    print(\"Great! You are logged in!\\nType anything to echo. Type 'x' to exit.\")\n",
    "    echo_until_delim(\"x\") \n",
    "    print(\"Bye Bye!\")\n",
    "else:\n",
    "    print(\"Sorry, that was not correct.\")"
   ]
  },
  {
   "cell_type": "markdown",
   "metadata": {},
   "source": [
    "### Questions?\n",
    "### Further Examples?"
   ]
  }
 ],
 "metadata": {
  "interpreter": {
   "hash": "916dbcbb3f70747c44a77c7bcd40155683ae19c65e1c03b4aa3499c5328201f1"
  },
  "kernelspec": {
   "display_name": "Python 3.8.10 64-bit",
   "language": "python",
   "name": "python3"
  },
  "language_info": {
   "codemirror_mode": {
    "name": "ipython",
    "version": 3
   },
   "file_extension": ".py",
   "mimetype": "text/x-python",
   "name": "python",
   "nbconvert_exporter": "python",
   "pygments_lexer": "ipython3",
   "version": "3.8.10"
  },
  "orig_nbformat": 4
 },
 "nbformat": 4,
 "nbformat_minor": 2
}
