{
 "cells": [
  {
   "cell_type": "markdown",
   "metadata": {},
   "source": [
    "# Functions\n",
    "\n",
    "- Functions encapsulate code\n",
    "- They are used for the following reasons:\n",
    "    - Making code reusable and maintainable by avoiding duplications\n",
    "    - Splitting long code segments into small and clear parts\n",
    "\n",
    "\n",
    "Let's see some examples 🎆✨!"
   ]
  },
  {
   "cell_type": "code",
   "execution_count": 1,
   "metadata": {},
   "outputs": [
    {
     "name": "stdout",
     "output_type": "stream",
     "text": [
      "The complementary color of green is red\n"
     ]
    }
   ],
   "source": [
    "# Defining a function\n",
    "def complementary_color(color: str):\n",
    "    color = color.lower()\n",
    "    if color == \"yellow\":\n",
    "        return \"purple\"\n",
    "    if color == \"purple\":\n",
    "        return \"yellow\"\n",
    "    if color == \"blue\":\n",
    "        return \"orange\"\n",
    "    if color == \"orange\":\n",
    "        return \"blue\"\n",
    "    if color == \"red\":\n",
    "        return \"green\"\n",
    "    if color == \"green\":\n",
    "        return \"red\"\n",
    "\n",
    "    return \"unknown\"\n",
    "\n",
    "\n",
    "# Calling a function\n",
    "color = input(\"Please enter a color: \")\n",
    "\n",
    "print(f\"The complementary color of {color} is {complementary_color(color)}\")\n"
   ]
  },
  {
   "cell_type": "code",
   "execution_count": 2,
   "metadata": {},
   "outputs": [
    {
     "name": "stdout",
     "output_type": "stream",
     "text": [
      "Hi there here is the echo machine!\n",
      "We need to verify you for login.\n",
      "Great! You are logged in!\n",
      "Type anything to echo. Type 'x' to exit.\n",
      "hi\n",
      "hi\n",
      "what up\n",
      "Bye Bye!\n"
     ]
    }
   ],
   "source": [
    "import getpass\n",
    "\n",
    "def validate_user() -> bool:\n",
    "    input = getpass.getpass('Enter your password: ')\n",
    "    return input == \"12345\"\n",
    "\n",
    "def echo_until_delim(delim: str):\n",
    "    while True:\n",
    "        user_input = input(\"\")\n",
    "        if user_input.lower() == delim:\n",
    "            return\n",
    "        print(f\"{user_input}\", flush=True)\n",
    "\n",
    "\n",
    "print(\"Hi there here is the echo machine!\\nWe need to verify you for login.\")\n",
    "if validate_user():\n",
    "    print(\"Great! You are logged in!\\nType anything to echo. Type 'x' to exit.\")\n",
    "    echo_until_delim(\"x\") \n",
    "    print(\"Bye Bye!\")\n",
    "else:\n",
    "    print(\"Sorry, that was not correct.\")"
   ]
  },
  {
   "cell_type": "markdown",
   "metadata": {},
   "source": [
    "### Questions?\n",
    "### Further Examples?"
   ]
  }
 ],
 "metadata": {
  "interpreter": {
   "hash": "916dbcbb3f70747c44a77c7bcd40155683ae19c65e1c03b4aa3499c5328201f1"
  },
  "kernelspec": {
   "display_name": "Python 3.8.10 64-bit",
   "language": "python",
   "name": "python3"
  },
  "language_info": {
   "codemirror_mode": {
    "name": "ipython",
    "version": 3
   },
   "file_extension": ".py",
   "mimetype": "text/x-python",
   "name": "python",
   "nbconvert_exporter": "python",
   "pygments_lexer": "ipython3",
   "version": "3.8.10"
  },
  "orig_nbformat": 4
 },
 "nbformat": 4,
 "nbformat_minor": 2
}
