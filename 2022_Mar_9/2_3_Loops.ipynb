{
 "cells": [
  {
   "cell_type": "markdown",
   "metadata": {},
   "source": [
    "# Loops\n",
    "\n",
    "Loops are used to execute a code of block multiple times"
   ]
  },
  {
   "cell_type": "code",
   "execution_count": 12,
   "metadata": {},
   "outputs": [
    {
     "name": "stdout",
     "output_type": "stream",
     "text": [
      "5050\n",
      "20100\n"
     ]
    }
   ],
   "source": [
    "# Example: Why do we need loops?\n",
    "\n",
    "# add numbers from 1 to 100.\n",
    "\n",
    "sum_of_numbers = 0\n",
    "for num in range(1, 101):\n",
    "    sum_of_numbers = sum_of_numbers + num\n",
    "\n",
    "print(sum_of_numbers)\n",
    "\n",
    "\n",
    "# add numbers from 1 to a user defined number\n",
    "\n",
    "limit = int(input(\"Put in a limit for addition: \"))\n",
    "\n",
    "sum_of_numbers = 0\n",
    "for num in range(1, limit + 1):\n",
    "    sum_of_numbers = sum_of_numbers + num\n",
    "\n",
    "print(sum_of_numbers)\n"
   ]
  },
  {
   "cell_type": "markdown",
   "metadata": {},
   "source": [
    "## Types of loops\n",
    "\n",
    "There are two main types of loops:\n",
    "\n",
    "- **for loops:**: iterate over a collection\n",
    "- **while loops:**: execute code while an expression evaluates to *True*"
   ]
  },
  {
   "cell_type": "markdown",
   "metadata": {},
   "source": [
    "## for-Loops"
   ]
  },
  {
   "cell_type": "code",
   "execution_count": 13,
   "metadata": {},
   "outputs": [
    {
     "name": "stdout",
     "output_type": "stream",
     "text": [
      "5\n",
      "6\n",
      "2\n",
      "3\n",
      "10\n",
      "2000\n",
      "J\n",
      "u\n",
      "p\n",
      "y\n",
      "t\n",
      "e\n",
      "r\n"
     ]
    }
   ],
   "source": [
    "# Syntax\n",
    "#  1) range\n",
    "#  2) list\n",
    "#  3) string\n",
    "\n",
    "for item in range(5, 7):\n",
    "    print(item)\n",
    "\n",
    "for elem in [2, 3, 10, 2000]:\n",
    "    print(elem)\n",
    "\n",
    "for char in \"Jupyter\":\n",
    "    print(char)"
   ]
  },
  {
   "cell_type": "code",
   "execution_count": 4,
   "metadata": {},
   "outputs": [],
   "source": [
    "# Solving the problem from the beginning"
   ]
  },
  {
   "cell_type": "markdown",
   "metadata": {},
   "source": [
    "## while-Loops"
   ]
  },
  {
   "cell_type": "code",
   "execution_count": 17,
   "metadata": {},
   "outputs": [
    {
     "name": "stdout",
     "output_type": "stream",
     "text": [
      "x greater than 3\n",
      "x greater than 3\n",
      "x greater than 3\n",
      "x greater than 3\n",
      "x greater than 3\n",
      "x greater than 3\n",
      "x greater than 3\n"
     ]
    }
   ],
   "source": [
    "# Syntax\n",
    "\n",
    "x = 10\n",
    "\n",
    "while x > 3:\n",
    "    print(\"x greater than 3\")\n",
    "    x -= 1"
   ]
  },
  {
   "cell_type": "code",
   "execution_count": 23,
   "metadata": {},
   "outputs": [
    {
     "name": "stdout",
     "output_type": "stream",
     "text": [
      "bla bla bla\n",
      "Hello World\n",
      "bla bla bla\n",
      "Hello World\n",
      "Bye!\n"
     ]
    }
   ],
   "source": [
    "# Creating a menu\n",
    "\n",
    "# User soll was eingeben\n",
    "# Die Eingabe soll was machen *****\n",
    "# soll der user das menu beenden können\n",
    "\n",
    "user_input = \"\"\n",
    "\n",
    "while user_input != \"x\":\n",
    "    user_input = input(\"Enter 1 for a cool joke, 2 for 'hello world' or x to exit: \")\n",
    "    if user_input == \"1\":\n",
    "        print(\"bla bla bla\")\n",
    "    if user_input == \"2\":\n",
    "        print(\"Hello World\")\n",
    "    if user_input == \"x\":\n",
    "        print(\"Bye!\")\n",
    "\n"
   ]
  },
  {
   "cell_type": "markdown",
   "metadata": {},
   "source": [
    "### Questions?\n",
    "\n",
    "### Do you need further examples?\n",
    "\n",
    "### Try it out yourself!"
   ]
  }
 ],
 "metadata": {
  "interpreter": {
   "hash": "916dbcbb3f70747c44a77c7bcd40155683ae19c65e1c03b4aa3499c5328201f1"
  },
  "kernelspec": {
   "display_name": "Python 3.8.10 64-bit",
   "language": "python",
   "name": "python3"
  },
  "language_info": {
   "codemirror_mode": {
    "name": "ipython",
    "version": 3
   },
   "file_extension": ".py",
   "mimetype": "text/x-python",
   "name": "python",
   "nbconvert_exporter": "python",
   "pygments_lexer": "ipython3",
   "version": "3.8.10"
  },
  "orig_nbformat": 4
 },
 "nbformat": 4,
 "nbformat_minor": 2
}
