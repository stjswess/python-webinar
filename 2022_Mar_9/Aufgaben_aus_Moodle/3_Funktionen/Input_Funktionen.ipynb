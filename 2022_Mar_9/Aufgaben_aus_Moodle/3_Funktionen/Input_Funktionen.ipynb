{
 "cells": [
  {
   "cell_type": "markdown",
   "metadata": {},
   "source": [
    "# Programmierstrukturen  - Funktionen"
   ]
  },
  {
   "cell_type": "markdown",
   "metadata": {},
   "source": [
    "---\n",
    "\n",
    "Mit benutzerdefinierten Funktionen werden Unterprogramme erstellt, die im Normalfall ein Ergebnis (*Rückgabewert*) liefern. Du kennst das schon für die Funktionen ```sum(), len(), sorted(), range()```. Funktionen besitzten Parameter, die bei dem Funktionsaufrug als Argumente übergeben werden. "
   ]
  },
  {
   "cell_type": "markdown",
   "metadata": {},
   "source": [
    "**a) einfache Funktion ohne Parameter**"
   ]
  },
  {
   "cell_type": "code",
   "execution_count": 4,
   "metadata": {},
   "outputs": [
    {
     "name": "stdout",
     "output_type": "stream",
     "text": [
      "Du schaffst das!\n"
     ]
    }
   ],
   "source": [
    "# Funktionsdefinition\n",
    "def Motivation():\n",
    "    print(\"Du schaffst das!\")\n",
    "\n",
    "# Funktionsaufruf\n",
    "Motivation()"
   ]
  },
  {
   "cell_type": "markdown",
   "metadata": {},
   "source": [
    "**b) Funktion mit Parametern**"
   ]
  },
  {
   "cell_type": "code",
   "execution_count": 158,
   "metadata": {},
   "outputs": [
    {
     "name": "stdout",
     "output_type": "stream",
     "text": [
      "5\n"
     ]
    }
   ],
   "source": [
    "import random \n",
    "\n",
    "# Funktionsdefinition\n",
    "def Zufallszahl(start, end):\n",
    "    random_float_0_to_1 = random.random()\n",
    "    random_integer = random_float_0_to_1 *(end - start) + start\n",
    "    # Rückgabe des Wertes\n",
    "    return round(random_integer)\n",
    "\n",
    "# Funktionsaufruf\n",
    "ergebnis = Zufallszahl(2,10)\n",
    "print(ergebnis)"
   ]
  },
  {
   "cell_type": "code",
   "execution_count": 173,
   "metadata": {},
   "outputs": [
    {
     "data": {
      "text/plain": [
       "7"
      ]
     },
     "execution_count": 173,
     "metadata": {},
     "output_type": "execute_result"
    }
   ],
   "source": [
    "# Eingabe der Parameter explizit\n",
    "Zufallszahl(Ende=10, Anfang=5)"
   ]
  },
  {
   "cell_type": "markdown",
   "metadata": {},
   "source": [
    "**c) Optionale Parameter**"
   ]
  },
  {
   "cell_type": "code",
   "execution_count": 178,
   "metadata": {},
   "outputs": [
    {
     "name": "stdout",
     "output_type": "stream",
     "text": [
      "2 1 Hi\n"
     ]
    }
   ],
   "source": [
    "def meineFunktion(a,b=1 ,c=\"Hi\"):\n",
    "    print(a,b,c)\n",
    "    \n",
    "meineFunktion(2)"
   ]
  },
  {
   "cell_type": "markdown",
   "metadata": {},
   "source": [
    "**d) Dictionaries als Argumente**"
   ]
  },
  {
   "cell_type": "code",
   "execution_count": 179,
   "metadata": {},
   "outputs": [
    {
     "name": "stdout",
     "output_type": "stream",
     "text": [
      "10 17 Gut zu wissen\n"
     ]
    }
   ],
   "source": [
    "arg_dict = {\"a\": 10, \"b\" : 17, \"c\" : \"Gut zu wissen\"}\n",
    "\n",
    "# Übergabe des Dicts in die Funktion\n",
    "meineFunktion(**arg_dict)"
   ]
  },
  {
   "cell_type": "markdown",
   "metadata": {},
   "source": [
    "**e) Unbekannte Anzahl als Argument**"
   ]
  },
  {
   "cell_type": "code",
   "execution_count": 187,
   "metadata": {},
   "outputs": [
    {
     "data": {
      "text/plain": [
       "36"
      ]
     },
     "execution_count": 187,
     "metadata": {},
     "output_type": "execute_result"
    }
   ],
   "source": [
    "def meineSumme(*args):\n",
    "    temp_sum = 0\n",
    "    for i in range(len(args)):\n",
    "        temp_sum += args[i]\n",
    "    return temp_sum\n",
    "\n",
    "meineSumme(1,2,3,4,5,6,7,8)\n",
    "    "
   ]
  },
  {
   "cell_type": "markdown",
   "metadata": {},
   "source": [
    "**f) Lambda Funktionen**\n",
    "Lambda-Funktionen sind anonyme Funktionen. Diese sind werden nicht \"offiziell\" angelegt und besitzen keinen Funktionsnamen, können dafür aber in einer Variable gespeichert werden. Später bei der Datenverarbeitung mit der Bibliothek Pandas sind sie sehr hilfreich! Dort werden wir auch vertiefter auf sie eingehen!"
   ]
  },
  {
   "cell_type": "code",
   "execution_count": 191,
   "metadata": {},
   "outputs": [
    {
     "name": "stdout",
     "output_type": "stream",
     "text": [
      "21\n"
     ]
    }
   ],
   "source": [
    "x = lambda a : a + 11\n",
    "\n",
    "# Ausgabe für den Wert 10\n",
    "print(x(10))"
   ]
  }
 ],
 "metadata": {
  "kernelspec": {
   "display_name": "Python 3",
   "language": "python",
   "name": "python3"
  },
  "language_info": {
   "codemirror_mode": {
    "name": "ipython",
    "version": 3
   },
   "file_extension": ".py",
   "mimetype": "text/x-python",
   "name": "python",
   "nbconvert_exporter": "python",
   "pygments_lexer": "ipython3",
   "version": "3.8.5"
  }
 },
 "nbformat": 4,
 "nbformat_minor": 2
}
