{
 "cells": [
  {
   "cell_type": "markdown",
   "metadata": {},
   "source": [
    "# Lektion 1.1 Einstieg in Python \n",
    "### a) Anlegen eines Kommentars \n",
    "Ein Kommentar wird nicht ausgeführt. Du kannst ihn für Notizen verwenden."
   ]
  },
  {
   "cell_type": "code",
   "execution_count": 9,
   "metadata": {},
   "outputs": [],
   "source": [
    "# Kommentar"
   ]
  },
  {
   "cell_type": "markdown",
   "metadata": {},
   "source": [
    "### b) Ausgeben eines Textes mit dem Befehl ```print()```"
   ]
  },
  {
   "cell_type": "code",
   "execution_count": 10,
   "metadata": {},
   "outputs": [
    {
     "name": "stdout",
     "output_type": "stream",
     "text": [
      "Hi\n"
     ]
    }
   ],
   "source": [
    "print(\"Hi\")"
   ]
  },
  {
   "cell_type": "markdown",
   "metadata": {},
   "source": [
    "### c) Anlegen einer Variable \n",
    "Folgende Datentypen werden gezeigt:\n",
    "- Integer (Ganzzahl)\n",
    "- Float (Gleitkommezahl)\n",
    "- String (Text) \"Vergesse die Anführungszeichen nicht\"\n",
    "- Boolean (Wahrheitswert)\n",
    "\n",
    "Es darf kein Leerzeichen im Variablennamen benutzt werden. Verwende hierfür den Unterstrich.\n",
    "Wenn Du eine Variable ohne weiteres als letzte Zeile in einem Codeblock hinschreibst,\n",
    "wird diese in Juypter Notebook ausgegeben.\n",
    "Das ist analog zu ```print(a_string)```."
   ]
  },
  {
   "cell_type": "code",
   "execution_count": 13,
   "metadata": {},
   "outputs": [
    {
     "data": {
      "text/plain": [
       "'Hi'"
      ]
     },
     "execution_count": 13,
     "metadata": {},
     "output_type": "execute_result"
    }
   ],
   "source": [
    "an_integer = 2\n",
    "a_float = 2.5\n",
    "a_string = \"Hi\"\n",
    "a_boolean = True\n",
    "\n",
    "a_string"
   ]
  },
  {
   "cell_type": "markdown",
   "metadata": {},
   "source": [
    "### d) Rechnen mit Variablen \n",
    "Mögliche Operatoren\n",
    "- ```+``` Addieren\n",
    "- ```-``` Subtrahieren\n",
    "- ```/``` Dividieren\n",
    "- ```*``` Mulitplizieren\n",
    "- ```**``` Potenzieren\n",
    "- ```%``` Modulo\n",
    "\n",
    "Eine Verkürzte Schreibweise für ```b = b + ...``` ist ```b += ...```. Das geht auch bei einer Subtraktion ```-=```, Division ```/=```und Multiplikation```*=```."
   ]
  },
  {
   "cell_type": "code",
   "execution_count": 26,
   "metadata": {},
   "outputs": [
    {
     "name": "stdout",
     "output_type": "stream",
     "text": [
      "Schritt 1 7.8\n",
      "Schritt 2 8.8\n",
      "Schritt 3 8.8\n"
     ]
    }
   ],
   "source": [
    "# es gilt Punkt vor Strich\n",
    "result = an_integer + 5 + 7.2 / 9 * 1\n",
    "print(\"Schritt 1\", result)\n",
    "result = result + 1\n",
    "print(\"Schritt 2\", result)\n",
    "result /= 1\n",
    "print(\"Schritt 3\", result)"
   ]
  },
  {
   "cell_type": "markdown",
   "metadata": {},
   "source": [
    "### e) Formatieren eines Textes\n",
    "Du kannst Variablen an bestimmte Positionen in einem Text wie folgt einfügen."
   ]
  },
  {
   "cell_type": "code",
   "execution_count": 36,
   "metadata": {},
   "outputs": [
    {
     "data": {
      "text/plain": [
       "'Der aktuelle Wert von b ist 17.8 und der Wert von a ist True'"
      ]
     },
     "execution_count": 36,
     "metadata": {},
     "output_type": "execute_result"
    }
   ],
   "source": [
    "f\"Der aktuelle Wert von result ist {result} und der Wert von a_string ist {a_string}\""
   ]
  },
  {
   "cell_type": "markdown",
   "metadata": {},
   "source": [
    "### f) Datenstruktur Liste\n",
    "\n",
    "Listen sind Zusammenfassung von Werten. In der Variable ```c``` werden mehrere Werte hintereinander gespeichert.\n",
    "\n",
    "#### Zugriff auf Elemente\n",
    "Du kannst auf die einzelnen Werte über die Postion zugreifen. Die Werte sind mit 0 beginnend durchnummeriert (zero based indexed).\n",
    "Möchtest Du vom Ende der Liste zugreifen setzt Du ein Minus davor ```c[-1]``` gibt dir das letzte Element der Liste zurück.\n",
    "\n",
    "#### Slicing - Mehrere Elemente auf einmal auswählen\n",
    "Mehrere Elemente werden über den Startwert und Endwert des Bereiches ausgewählt.\n",
    "Der Endwert ist dabei die erste Position, die *nicht* mehr in den Bereich reinfällt (exclusive end)."
   ]
  },
  {
   "cell_type": "code",
   "execution_count": 1,
   "metadata": {},
   "outputs": [
    {
     "data": {
      "text/plain": [
       "[1, 2, 3, 4]"
      ]
     },
     "execution_count": 1,
     "metadata": {},
     "output_type": "execute_result"
    }
   ],
   "source": [
    "# Anlegen einer Liste\n",
    "numbers = [3, 4, 1, 2]\n",
    "\n",
    "# Auswahl der ersten Elements\n",
    "numbers[0]\n",
    "\n",
    "# Auswahl des letzten Elements\n",
    "numbers[-1]  # Letztes Element\n",
    "numbers[-2]  # Vorletztes Element\n",
    "\n",
    "# Auswahl eines Bereichs\n",
    "# Note: das erste Element hat den index 0 und das dritte Element den index 2\n",
    "numbers[0:3]  # Von erstes bis drittes\n",
    "numbers[1:]  # zweites bis Ende\n",
    "numbers[:3]  # Anfang bis einschließlich drittes Element\n",
    "\n",
    "# Ausgabe der Länge\n",
    "len(numbers)\n",
    "\n",
    "# Sortieren der Liste (eingebaute Methode)\n",
    "numbers.sort()\n",
    "numbers"
   ]
  },
  {
   "cell_type": "markdown",
   "metadata": {},
   "source": [
    "Es gibt natürlich auch verschachtelte Listen:"
   ]
  },
  {
   "cell_type": "code",
   "execution_count": 37,
   "metadata": {},
   "outputs": [
    {
     "name": "stdout",
     "output_type": "stream",
     "text": [
      "[1, 2]\n",
      "2\n"
     ]
    }
   ],
   "source": [
    "nested_numbers = [[1, 2], [3, 4]]\n",
    "\n",
    "# Ausgabe des ersten Elements der äußeren Liste -> erste innere Liste\n",
    "first_inner_list = nested_numbers[0]  # Liste [1,2]\n",
    "\n",
    "# Ausgabe des zweiten Elements der ersten inneren Liste\n",
    "second_elem_of_first_inner_list = nested_numbers[0][1]  # 2\n",
    "\n",
    "print(first_inner_list)\n",
    "print(second_elem_of_first_inner_list)"
   ]
  },
  {
   "cell_type": "markdown",
   "metadata": {},
   "source": [
    "### g) Datenstruktur Dictionary\n",
    "In einem Dictonary werden Werte nicht mit einer Postion abgelegt, sondern mit einem Schlüssel.\n",
    "Über diesen Schlüssen werden die Werte wiedergefunden.\n",
    "Die Datentypen innerhalb eines Dictionary können gemixt werden (sollten sie aber nicht, da das unübersichtlich und unpraktisch ist)."
   ]
  },
  {
   "cell_type": "code",
   "execution_count": 2,
   "metadata": {},
   "outputs": [
    {
     "name": "stdout",
     "output_type": "stream",
     "text": [
      "Günther\n",
      "dict_keys(['Name', 'Mitgliedesnummer', 'Aktiv'])\n"
     ]
    },
    {
     "data": {
      "text/plain": [
       "3"
      ]
     },
     "execution_count": 2,
     "metadata": {},
     "output_type": "execute_result"
    }
   ],
   "source": [
    "member = {\"Name\": \"Günther\",\n",
    "     \"Mitgliedesnummer\": 40,\n",
    "     \"Aktiv\": True}\n",
    "\n",
    "name = member[\"Name\"]\n",
    "print(f'Name des Mitglieds: {name}')\n",
    "\n",
    "# Ausgabe sämtlicher Schlüssel des dicts\n",
    "keys = member.keys()\n",
    "print(keys)\n",
    "\n",
    "length = len(member)\n",
    "print(f'Anzahl der Schlüssel-Wert-Paare im Dictionary: {length}')"
   ]
  }
 ],
 "metadata": {
  "kernelspec": {
   "display_name": "Python 3",
   "language": "python",
   "name": "python3"
  },
  "language_info": {
   "codemirror_mode": {
    "name": "ipython",
    "version": 3
   },
   "file_extension": ".py",
   "mimetype": "text/x-python",
   "name": "python",
   "nbconvert_exporter": "python",
   "pygments_lexer": "ipython3",
   "version": "3.7.4"
  }
 },
 "nbformat": 4,
 "nbformat_minor": 2
}
