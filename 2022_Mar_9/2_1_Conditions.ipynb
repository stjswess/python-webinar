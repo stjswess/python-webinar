{
 "cells": [
  {
   "cell_type": "markdown",
   "metadata": {},
   "source": [
    "# Conditions - Outline\n",
    "\n",
    "1. What are expressions?\n",
    "2. What are operators?\n",
    "3. What are conditions?\n",
    "4. Examples for using conditions\n"
   ]
  },
  {
   "cell_type": "markdown",
   "metadata": {},
   "source": [
    "### 1 What are expressions?\n",
    "- An expression is something that evaluates to a boolean value:\n",
    "    - A boolean literal\n",
    "    - A function call (with boolean return type)\n",
    "    - The result of an operator (with boolean return type)\n",
    "- Expressions can be used for conditions."
   ]
  },
  {
   "cell_type": "code",
   "execution_count": 5,
   "metadata": {},
   "outputs": [
    {
     "data": {
      "text/plain": [
       "9"
      ]
     },
     "execution_count": 5,
     "metadata": {},
     "output_type": "execute_result"
    }
   ],
   "source": [
    "# Examples of simple expressions\n",
    "\n",
    "\n",
    "# Boolearn literals\n",
    "True \n",
    "False\n",
    "\n",
    "# Return value of a function \n",
    "\n",
    "\" \".isspace() # gibt True zurück falls das Zeichen ein Leerzeichen ist, ansonsten False\n",
    "\n",
    "# Result of operators\n",
    "\n",
    "3 == 2"
   ]
  },
  {
   "cell_type": "markdown",
   "metadata": {},
   "source": [
    "### 2 What are operators?\n",
    "Lets show examples first:\n",
    "- ==, !=\n",
    "- <, >, <=, >=\n",
    "- and, or, not\n",
    "- +, -, \\*, /, %, \\*\\*"
   ]
  },
  {
   "cell_type": "code",
   "execution_count": 3,
   "metadata": {},
   "outputs": [
    {
     "name": "stdout",
     "output_type": "stream",
     "text": [
      "True\n"
     ]
    }
   ],
   "source": [
    "print(3 == 3)"
   ]
  },
  {
   "cell_type": "code",
   "execution_count": 4,
   "metadata": {},
   "outputs": [
    {
     "name": "stdout",
     "output_type": "stream",
     "text": [
      "False\n"
     ]
    }
   ],
   "source": [
    "print(2 == 3)"
   ]
  },
  {
   "cell_type": "code",
   "execution_count": 5,
   "metadata": {},
   "outputs": [
    {
     "name": "stdout",
     "output_type": "stream",
     "text": [
      "True\n"
     ]
    }
   ],
   "source": [
    "print(\"Hallo\" == \"Hallo\")"
   ]
  },
  {
   "cell_type": "code",
   "execution_count": 7,
   "metadata": {},
   "outputs": [
    {
     "name": "stdout",
     "output_type": "stream",
     "text": [
      "False\n",
      "True\n"
     ]
    }
   ],
   "source": [
    "# Comparison with equality operator and inequality operator is case sensitive\n",
    "print(\"hallo\" == \"Hallo\")\n",
    "print(\"h\" != \"H\")"
   ]
  },
  {
   "cell_type": "code",
   "execution_count": 5,
   "metadata": {},
   "outputs": [
    {
     "name": "stdout",
     "output_type": "stream",
     "text": [
      "False\n"
     ]
    }
   ],
   "source": [
    "# Inequality of strings and integers\n",
    "print(\"5\" == 5)"
   ]
  },
  {
   "cell_type": "code",
   "execution_count": 9,
   "metadata": {},
   "outputs": [
    {
     "name": "stdout",
     "output_type": "stream",
     "text": [
      "True\n"
     ]
    }
   ],
   "source": [
    "print(5 > 3 or 0 < -5)"
   ]
  },
  {
   "cell_type": "code",
   "execution_count": 15,
   "metadata": {},
   "outputs": [
    {
     "name": "stdout",
     "output_type": "stream",
     "text": [
      "False\n"
     ]
    }
   ],
   "source": [
    "print(not 3 < 5)"
   ]
  },
  {
   "cell_type": "code",
   "execution_count": 11,
   "metadata": {},
   "outputs": [
    {
     "data": {
      "text/plain": [
       "True"
      ]
     },
     "execution_count": 11,
     "metadata": {},
     "output_type": "execute_result"
    }
   ],
   "source": [
    "name = \"Max\"\n",
    "age = 19\n",
    "\n",
    "len(name) == 3 and age >= 18"
   ]
  },
  {
   "cell_type": "markdown",
   "metadata": {},
   "source": [
    "### 3 What are conditions?\n",
    "- Conditional statements (also known as if-statements) are only executed if an expression evaluates to *True*"
   ]
  },
  {
   "cell_type": "code",
   "execution_count": 17,
   "metadata": {},
   "outputs": [
    {
     "name": "stdout",
     "output_type": "stream",
     "text": [
      "Your name has not 4 characters\n"
     ]
    }
   ],
   "source": [
    "# Syntax\n",
    "\n",
    "if len(\"Max\") == 4:\n",
    "    print(\"Your name has four characters\")\n",
    "else:\n",
    "    print(\"Your name has not 4 characters\")\n",
    "\n"
   ]
  },
  {
   "cell_type": "markdown",
   "metadata": {},
   "source": [
    "### 4 Examples for using conditions"
   ]
  },
  {
   "cell_type": "code",
   "execution_count": 10,
   "metadata": {},
   "outputs": [],
   "source": [
    "# Example: Is your name Marc?\n",
    "\n",
    "# TODO: live coding"
   ]
  },
  {
   "cell_type": "code",
   "execution_count": 21,
   "metadata": {},
   "outputs": [
    {
     "name": "stdout",
     "output_type": "stream",
     "text": [
      "password wrong! :(\n"
     ]
    }
   ],
   "source": [
    "# Example: Login user with password\n",
    "\n",
    "password = \"12345\"\n",
    "\n",
    "user_input = input(\"Please enter your password for login: \")\n",
    "\n",
    "if password == user_input:\n",
    "    print(\"Login succeeded!\")\n",
    "else:\n",
    "    print(\"password wrong! :(\")"
   ]
  },
  {
   "cell_type": "code",
   "execution_count": 27,
   "metadata": {},
   "outputs": [
    {
     "name": "stdout",
     "output_type": "stream",
     "text": [
      "Meeeep!\n"
     ]
    }
   ],
   "source": [
    "# Exercise: mental arithmetic exercise\n",
    "\n",
    "\n",
    "# Aufgabe stellen\n",
    "# Ergebnis vom User einholen\n",
    "# Vergleichen ob das Ergebnis vom User richtig war\n",
    "\n",
    "task = \"(3 + 4) ** 3 - 251\"\n",
    "\n",
    "user_input = input(f\"What is {task}\")\n",
    "\n",
    "if (3 + 4) ** 3 - 251 == int(user_input):\n",
    "    print(\"Correct!\")\n",
    "else: \n",
    "    print(\"Meeeep!\")\n"
   ]
  },
  {
   "cell_type": "markdown",
   "metadata": {},
   "source": [
    "### Questions?\n",
    "### Further Examples?\n",
    "### Try it out yourself!"
   ]
  }
 ],
 "metadata": {
  "interpreter": {
   "hash": "916dbcbb3f70747c44a77c7bcd40155683ae19c65e1c03b4aa3499c5328201f1"
  },
  "kernelspec": {
   "display_name": "Python 3.8.10 64-bit",
   "language": "python",
   "name": "python3"
  },
  "language_info": {
   "codemirror_mode": {
    "name": "ipython",
    "version": 3
   },
   "file_extension": ".py",
   "mimetype": "text/x-python",
   "name": "python",
   "nbconvert_exporter": "python",
   "pygments_lexer": "ipython3",
   "version": "3.8.10"
  },
  "orig_nbformat": 4
 },
 "nbformat": 4,
 "nbformat_minor": 2
}
